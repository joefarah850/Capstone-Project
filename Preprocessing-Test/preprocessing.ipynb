{
 "cells": [
  {
   "cell_type": "markdown",
   "metadata": {},
   "source": [
    "# Preprocessing the properties dataset\n"
   ]
  },
  {
   "cell_type": "markdown",
   "metadata": {},
   "source": [
    "### Importing the libraries"
   ]
  },
  {
   "cell_type": "code",
   "execution_count": 31,
   "metadata": {},
   "outputs": [],
   "source": [
    "import mysql.connector\n",
    "from mysql.connector import Error\n",
    "import pandas as pd\n",
    "from dotenv import load_dotenv\n",
    "from sklearn.preprocessing import OneHotEncoder\n",
    "import os"
   ]
  },
  {
   "cell_type": "markdown",
   "metadata": {},
   "source": [
    "### Importing the dataset"
   ]
  },
  {
   "cell_type": "code",
   "execution_count": 32,
   "metadata": {},
   "outputs": [
    {
     "name": "stdout",
     "output_type": "stream",
     "text": [
      "Connected to MySQL database\n",
      "   id                                                url  \\\n",
      "0   1           https://emirates.estate/property/o45496/   \n",
      "1   2           https://emirates.estate/property/o21299/   \n",
      "2   3          https://emirates.estate/property/o109134/   \n",
      "3   4            https://emirates.estate/property/o8201/   \n",
      "4   5  https://emirates.estate/property/golf-grand-25...   \n",
      "\n",
      "                                               title   city  \\\n",
      "0                 Apartment in Dubai Marina, № 45496  Dubai   \n",
      "1  Apartment in GOLF SUITES in Dubai Hills Estate...  Dubai   \n",
      "2               Townhouse in Nadd Al Sheba, № 109134  Dubai   \n",
      "3                         Apartment in Dubai, № 8201  Dubai   \n",
      "4  Apartment in GOLF SUITES in Dubai Hills Estate...  Dubai   \n",
      "\n",
      "               region       type  num_rooms  num_bathrooms    size      price  \n",
      "0        Dubai Marina  Apartment          2              2  148.60  6250000.0  \n",
      "1  Dubai Hills Estate  Apartment          2              2  102.20  1500890.0  \n",
      "2       Nadd Al Sheba  Townhouse          3              3  287.26  4100000.0  \n",
      "3                None  Apartment          2              3  143.00  2000000.0  \n",
      "4  Dubai Hills Estate  Apartment          2              2   99.31  2079890.0  \n",
      "MySQL connection closed\n"
     ]
    },
    {
     "name": "stderr",
     "output_type": "stream",
     "text": [
      "/var/folders/z3/qv2p67717670lmtsx4lfkzpw0000gn/T/ipykernel_77550/111955470.py:18: UserWarning: pandas only supports SQLAlchemy connectable (engine/connection) or database string URI or sqlite3 DBAPI2 connection. Other DBAPI2 objects are not tested. Please consider using SQLAlchemy.\n",
      "  df = pd.read_sql(sql_query, connection)\n"
     ]
    }
   ],
   "source": [
    "# Description: This script is used to connect to the MySQL database and fetch data from the property_info table.\n",
    "# Load environment variables\n",
    "load_dotenv()\n",
    "\n",
    "try:\n",
    "    connection = mysql.connector.connect(\n",
    "        host=os.getenv('DB_HOST'),\n",
    "        user=os.getenv('DB_USER'),\n",
    "        password=os.getenv('DB_PASSWORD'),\n",
    "        database='properties'\n",
    "    )\n",
    "\n",
    "    if connection.is_connected():\n",
    "        print('Connected to MySQL database')\n",
    "\n",
    "    # Define your SQL query and fetch data\n",
    "    sql_query = \"SELECT * FROM property_info\"\n",
    "    df = pd.read_sql(sql_query, connection)\n",
    "    print(df.head())\n",
    "\n",
    "except Error as e:\n",
    "    print(f\"Error: {e}\")\n",
    "\n",
    "finally:\n",
    "    # Close the connection\n",
    "    if connection.is_connected():\n",
    "        connection.close()\n",
    "        print('MySQL connection closed')\n"
   ]
  },
  {
   "cell_type": "markdown",
   "metadata": {},
   "source": [
    "### Start preprocessing"
   ]
  },
  {
   "cell_type": "code",
   "execution_count": 33,
   "metadata": {},
   "outputs": [
    {
     "data": {
      "text/html": [
       "<div>\n",
       "<style scoped>\n",
       "    .dataframe tbody tr th:only-of-type {\n",
       "        vertical-align: middle;\n",
       "    }\n",
       "\n",
       "    .dataframe tbody tr th {\n",
       "        vertical-align: top;\n",
       "    }\n",
       "\n",
       "    .dataframe thead th {\n",
       "        text-align: right;\n",
       "    }\n",
       "</style>\n",
       "<table border=\"1\" class=\"dataframe\">\n",
       "  <thead>\n",
       "    <tr style=\"text-align: right;\">\n",
       "      <th></th>\n",
       "      <th>id</th>\n",
       "      <th>url</th>\n",
       "      <th>title</th>\n",
       "      <th>city</th>\n",
       "      <th>region</th>\n",
       "      <th>type</th>\n",
       "      <th>num_rooms</th>\n",
       "      <th>num_bathrooms</th>\n",
       "      <th>size</th>\n",
       "      <th>price</th>\n",
       "    </tr>\n",
       "  </thead>\n",
       "  <tbody>\n",
       "    <tr>\n",
       "      <th>0</th>\n",
       "      <td>1</td>\n",
       "      <td>https://emirates.estate/property/o45496/</td>\n",
       "      <td>Apartment in Dubai Marina, № 45496</td>\n",
       "      <td>Dubai</td>\n",
       "      <td>Dubai Marina</td>\n",
       "      <td>Apartment</td>\n",
       "      <td>2</td>\n",
       "      <td>2</td>\n",
       "      <td>148.60</td>\n",
       "      <td>6250000.0</td>\n",
       "    </tr>\n",
       "    <tr>\n",
       "      <th>1</th>\n",
       "      <td>2</td>\n",
       "      <td>https://emirates.estate/property/o21299/</td>\n",
       "      <td>Apartment in GOLF SUITES in Dubai Hills Estate...</td>\n",
       "      <td>Dubai</td>\n",
       "      <td>Dubai Hills Estate</td>\n",
       "      <td>Apartment</td>\n",
       "      <td>2</td>\n",
       "      <td>2</td>\n",
       "      <td>102.20</td>\n",
       "      <td>1500890.0</td>\n",
       "    </tr>\n",
       "    <tr>\n",
       "      <th>2</th>\n",
       "      <td>3</td>\n",
       "      <td>https://emirates.estate/property/o109134/</td>\n",
       "      <td>Townhouse in Nadd Al Sheba, № 109134</td>\n",
       "      <td>Dubai</td>\n",
       "      <td>Nadd Al Sheba</td>\n",
       "      <td>Townhouse</td>\n",
       "      <td>3</td>\n",
       "      <td>3</td>\n",
       "      <td>287.26</td>\n",
       "      <td>4100000.0</td>\n",
       "    </tr>\n",
       "    <tr>\n",
       "      <th>3</th>\n",
       "      <td>4</td>\n",
       "      <td>https://emirates.estate/property/o8201/</td>\n",
       "      <td>Apartment in Dubai, № 8201</td>\n",
       "      <td>Dubai</td>\n",
       "      <td>None</td>\n",
       "      <td>Apartment</td>\n",
       "      <td>2</td>\n",
       "      <td>3</td>\n",
       "      <td>143.00</td>\n",
       "      <td>2000000.0</td>\n",
       "    </tr>\n",
       "    <tr>\n",
       "      <th>4</th>\n",
       "      <td>5</td>\n",
       "      <td>https://emirates.estate/property/golf-grand-25...</td>\n",
       "      <td>Apartment in GOLF SUITES in Dubai Hills Estate...</td>\n",
       "      <td>Dubai</td>\n",
       "      <td>Dubai Hills Estate</td>\n",
       "      <td>Apartment</td>\n",
       "      <td>2</td>\n",
       "      <td>2</td>\n",
       "      <td>99.31</td>\n",
       "      <td>2079890.0</td>\n",
       "    </tr>\n",
       "  </tbody>\n",
       "</table>\n",
       "</div>"
      ],
      "text/plain": [
       "   id                                                url  \\\n",
       "0   1           https://emirates.estate/property/o45496/   \n",
       "1   2           https://emirates.estate/property/o21299/   \n",
       "2   3          https://emirates.estate/property/o109134/   \n",
       "3   4            https://emirates.estate/property/o8201/   \n",
       "4   5  https://emirates.estate/property/golf-grand-25...   \n",
       "\n",
       "                                               title   city  \\\n",
       "0                 Apartment in Dubai Marina, № 45496  Dubai   \n",
       "1  Apartment in GOLF SUITES in Dubai Hills Estate...  Dubai   \n",
       "2               Townhouse in Nadd Al Sheba, № 109134  Dubai   \n",
       "3                         Apartment in Dubai, № 8201  Dubai   \n",
       "4  Apartment in GOLF SUITES in Dubai Hills Estate...  Dubai   \n",
       "\n",
       "               region       type  num_rooms  num_bathrooms    size      price  \n",
       "0        Dubai Marina  Apartment          2              2  148.60  6250000.0  \n",
       "1  Dubai Hills Estate  Apartment          2              2  102.20  1500890.0  \n",
       "2       Nadd Al Sheba  Townhouse          3              3  287.26  4100000.0  \n",
       "3                None  Apartment          2              3  143.00  2000000.0  \n",
       "4  Dubai Hills Estate  Apartment          2              2   99.31  2079890.0  "
      ]
     },
     "execution_count": 33,
     "metadata": {},
     "output_type": "execute_result"
    }
   ],
   "source": [
    "df.head()"
   ]
  },
  {
   "cell_type": "code",
   "execution_count": 34,
   "metadata": {},
   "outputs": [
    {
     "name": "stdout",
     "output_type": "stream",
     "text": [
      "<class 'pandas.core.frame.DataFrame'>\n",
      "RangeIndex: 19384 entries, 0 to 19383\n",
      "Data columns (total 10 columns):\n",
      " #   Column         Non-Null Count  Dtype  \n",
      "---  ------         --------------  -----  \n",
      " 0   id             19384 non-null  int64  \n",
      " 1   url            19384 non-null  object \n",
      " 2   title          19384 non-null  object \n",
      " 3   city           19384 non-null  object \n",
      " 4   region         16111 non-null  object \n",
      " 5   type           19365 non-null  object \n",
      " 6   num_rooms      19384 non-null  int64  \n",
      " 7   num_bathrooms  19384 non-null  int64  \n",
      " 8   size           19384 non-null  float64\n",
      " 9   price          19384 non-null  float64\n",
      "dtypes: float64(2), int64(3), object(5)\n",
      "memory usage: 1.5+ MB\n"
     ]
    }
   ],
   "source": [
    "df.info()"
   ]
  },
  {
   "cell_type": "code",
   "execution_count": 35,
   "metadata": {},
   "outputs": [
    {
     "data": {
      "text/plain": [
       "id               19384\n",
       "url              19345\n",
       "title            19345\n",
       "city                 1\n",
       "region             136\n",
       "type                16\n",
       "num_rooms           19\n",
       "num_bathrooms       19\n",
       "size              5940\n",
       "price             7211\n",
       "dtype: int64"
      ]
     },
     "execution_count": 35,
     "metadata": {},
     "output_type": "execute_result"
    }
   ],
   "source": [
    "df.nunique()"
   ]
  },
  {
   "cell_type": "code",
   "execution_count": 36,
   "metadata": {},
   "outputs": [
    {
     "data": {
      "text/html": [
       "<div>\n",
       "<style scoped>\n",
       "    .dataframe tbody tr th:only-of-type {\n",
       "        vertical-align: middle;\n",
       "    }\n",
       "\n",
       "    .dataframe tbody tr th {\n",
       "        vertical-align: top;\n",
       "    }\n",
       "\n",
       "    .dataframe thead th {\n",
       "        text-align: right;\n",
       "    }\n",
       "</style>\n",
       "<table border=\"1\" class=\"dataframe\">\n",
       "  <thead>\n",
       "    <tr style=\"text-align: right;\">\n",
       "      <th></th>\n",
       "      <th>id</th>\n",
       "      <th>num_rooms</th>\n",
       "      <th>num_bathrooms</th>\n",
       "      <th>size</th>\n",
       "      <th>price</th>\n",
       "    </tr>\n",
       "  </thead>\n",
       "  <tbody>\n",
       "    <tr>\n",
       "      <th>count</th>\n",
       "      <td>19384.000000</td>\n",
       "      <td>19384.000000</td>\n",
       "      <td>19384.000000</td>\n",
       "      <td>1.938400e+04</td>\n",
       "      <td>1.938400e+04</td>\n",
       "    </tr>\n",
       "    <tr>\n",
       "      <th>mean</th>\n",
       "      <td>9692.500000</td>\n",
       "      <td>2.385369</td>\n",
       "      <td>2.769810</td>\n",
       "      <td>2.545906e+03</td>\n",
       "      <td>8.585803e+06</td>\n",
       "    </tr>\n",
       "    <tr>\n",
       "      <th>std</th>\n",
       "      <td>5595.823145</td>\n",
       "      <td>3.425411</td>\n",
       "      <td>3.165611</td>\n",
       "      <td>1.684057e+05</td>\n",
       "      <td>4.193866e+07</td>\n",
       "    </tr>\n",
       "    <tr>\n",
       "      <th>min</th>\n",
       "      <td>1.000000</td>\n",
       "      <td>1.000000</td>\n",
       "      <td>1.000000</td>\n",
       "      <td>4.000000e-01</td>\n",
       "      <td>2.500000e+02</td>\n",
       "    </tr>\n",
       "    <tr>\n",
       "      <th>25%</th>\n",
       "      <td>4846.750000</td>\n",
       "      <td>1.000000</td>\n",
       "      <td>1.000000</td>\n",
       "      <td>7.870000e+01</td>\n",
       "      <td>1.290000e+06</td>\n",
       "    </tr>\n",
       "    <tr>\n",
       "      <th>50%</th>\n",
       "      <td>9692.500000</td>\n",
       "      <td>2.000000</td>\n",
       "      <td>2.000000</td>\n",
       "      <td>1.284000e+02</td>\n",
       "      <td>2.365500e+06</td>\n",
       "    </tr>\n",
       "    <tr>\n",
       "      <th>75%</th>\n",
       "      <td>14538.250000</td>\n",
       "      <td>3.000000</td>\n",
       "      <td>4.000000</td>\n",
       "      <td>2.289025e+02</td>\n",
       "      <td>4.800000e+06</td>\n",
       "    </tr>\n",
       "    <tr>\n",
       "      <th>max</th>\n",
       "      <td>19384.000000</td>\n",
       "      <td>356.000000</td>\n",
       "      <td>326.000000</td>\n",
       "      <td>1.858050e+07</td>\n",
       "      <td>1.958890e+09</td>\n",
       "    </tr>\n",
       "  </tbody>\n",
       "</table>\n",
       "</div>"
      ],
      "text/plain": [
       "                 id     num_rooms  num_bathrooms          size         price\n",
       "count  19384.000000  19384.000000   19384.000000  1.938400e+04  1.938400e+04\n",
       "mean    9692.500000      2.385369       2.769810  2.545906e+03  8.585803e+06\n",
       "std     5595.823145      3.425411       3.165611  1.684057e+05  4.193866e+07\n",
       "min        1.000000      1.000000       1.000000  4.000000e-01  2.500000e+02\n",
       "25%     4846.750000      1.000000       1.000000  7.870000e+01  1.290000e+06\n",
       "50%     9692.500000      2.000000       2.000000  1.284000e+02  2.365500e+06\n",
       "75%    14538.250000      3.000000       4.000000  2.289025e+02  4.800000e+06\n",
       "max    19384.000000    356.000000     326.000000  1.858050e+07  1.958890e+09"
      ]
     },
     "execution_count": 36,
     "metadata": {},
     "output_type": "execute_result"
    }
   ],
   "source": [
    "df.describe()"
   ]
  },
  {
   "cell_type": "code",
   "execution_count": 37,
   "metadata": {},
   "outputs": [
    {
     "data": {
      "text/plain": [
       "id                  0\n",
       "url                 0\n",
       "title               0\n",
       "city                0\n",
       "region           3273\n",
       "type               19\n",
       "num_rooms           0\n",
       "num_bathrooms       0\n",
       "size                0\n",
       "price               0\n",
       "dtype: int64"
      ]
     },
     "execution_count": 37,
     "metadata": {},
     "output_type": "execute_result"
    }
   ],
   "source": [
    "df.isnull().sum()"
   ]
  },
  {
   "cell_type": "code",
   "execution_count": 38,
   "metadata": {},
   "outputs": [
    {
     "data": {
      "text/html": [
       "<div>\n",
       "<style scoped>\n",
       "    .dataframe tbody tr th:only-of-type {\n",
       "        vertical-align: middle;\n",
       "    }\n",
       "\n",
       "    .dataframe tbody tr th {\n",
       "        vertical-align: top;\n",
       "    }\n",
       "\n",
       "    .dataframe thead th {\n",
       "        text-align: right;\n",
       "    }\n",
       "</style>\n",
       "<table border=\"1\" class=\"dataframe\">\n",
       "  <thead>\n",
       "    <tr style=\"text-align: right;\">\n",
       "      <th></th>\n",
       "      <th>id</th>\n",
       "      <th>url</th>\n",
       "      <th>title</th>\n",
       "      <th>city</th>\n",
       "      <th>region</th>\n",
       "      <th>type</th>\n",
       "      <th>num_rooms</th>\n",
       "      <th>num_bathrooms</th>\n",
       "      <th>size</th>\n",
       "      <th>price</th>\n",
       "    </tr>\n",
       "  </thead>\n",
       "  <tbody>\n",
       "  </tbody>\n",
       "</table>\n",
       "</div>"
      ],
      "text/plain": [
       "Empty DataFrame\n",
       "Columns: [id, url, title, city, region, type, num_rooms, num_bathrooms, size, price]\n",
       "Index: []"
      ]
     },
     "execution_count": 38,
     "metadata": {},
     "output_type": "execute_result"
    }
   ],
   "source": [
    "df[df['size'] < 0]"
   ]
  },
  {
   "cell_type": "code",
   "execution_count": 39,
   "metadata": {},
   "outputs": [],
   "source": [
    "df2 = df.copy(deep=True)\n",
    "df2.drop([\"id\", \"url\", \"title\", \"city\"], axis=1, inplace=True)"
   ]
  },
  {
   "cell_type": "code",
   "execution_count": 40,
   "metadata": {},
   "outputs": [],
   "source": [
    "df2.dropna(subset=['region', 'type'], axis=0, inplace=True)"
   ]
  },
  {
   "cell_type": "code",
   "execution_count": 41,
   "metadata": {},
   "outputs": [
    {
     "data": {
      "text/html": [
       "<div>\n",
       "<style scoped>\n",
       "    .dataframe tbody tr th:only-of-type {\n",
       "        vertical-align: middle;\n",
       "    }\n",
       "\n",
       "    .dataframe tbody tr th {\n",
       "        vertical-align: top;\n",
       "    }\n",
       "\n",
       "    .dataframe thead th {\n",
       "        text-align: right;\n",
       "    }\n",
       "</style>\n",
       "<table border=\"1\" class=\"dataframe\">\n",
       "  <thead>\n",
       "    <tr style=\"text-align: right;\">\n",
       "      <th></th>\n",
       "      <th>region</th>\n",
       "      <th>type</th>\n",
       "      <th>num_rooms</th>\n",
       "      <th>num_bathrooms</th>\n",
       "      <th>size</th>\n",
       "      <th>price</th>\n",
       "    </tr>\n",
       "  </thead>\n",
       "  <tbody>\n",
       "    <tr>\n",
       "      <th>0</th>\n",
       "      <td>Dubai Marina</td>\n",
       "      <td>Apartment</td>\n",
       "      <td>2</td>\n",
       "      <td>2</td>\n",
       "      <td>148.60</td>\n",
       "      <td>6250000.0</td>\n",
       "    </tr>\n",
       "    <tr>\n",
       "      <th>1</th>\n",
       "      <td>Dubai Hills Estate</td>\n",
       "      <td>Apartment</td>\n",
       "      <td>2</td>\n",
       "      <td>2</td>\n",
       "      <td>102.20</td>\n",
       "      <td>1500890.0</td>\n",
       "    </tr>\n",
       "    <tr>\n",
       "      <th>2</th>\n",
       "      <td>Nadd Al Sheba</td>\n",
       "      <td>Townhouse</td>\n",
       "      <td>3</td>\n",
       "      <td>3</td>\n",
       "      <td>287.26</td>\n",
       "      <td>4100000.0</td>\n",
       "    </tr>\n",
       "    <tr>\n",
       "      <th>4</th>\n",
       "      <td>Dubai Hills Estate</td>\n",
       "      <td>Apartment</td>\n",
       "      <td>2</td>\n",
       "      <td>2</td>\n",
       "      <td>99.31</td>\n",
       "      <td>2079890.0</td>\n",
       "    </tr>\n",
       "    <tr>\n",
       "      <th>5</th>\n",
       "      <td>Umm Suqeim</td>\n",
       "      <td>Apartment</td>\n",
       "      <td>1</td>\n",
       "      <td>2</td>\n",
       "      <td>76.10</td>\n",
       "      <td>1510000.0</td>\n",
       "    </tr>\n",
       "  </tbody>\n",
       "</table>\n",
       "</div>"
      ],
      "text/plain": [
       "               region       type  num_rooms  num_bathrooms    size      price\n",
       "0        Dubai Marina  Apartment          2              2  148.60  6250000.0\n",
       "1  Dubai Hills Estate  Apartment          2              2  102.20  1500890.0\n",
       "2       Nadd Al Sheba  Townhouse          3              3  287.26  4100000.0\n",
       "4  Dubai Hills Estate  Apartment          2              2   99.31  2079890.0\n",
       "5          Umm Suqeim  Apartment          1              2   76.10  1510000.0"
      ]
     },
     "execution_count": 41,
     "metadata": {},
     "output_type": "execute_result"
    }
   ],
   "source": [
    "df2.head()"
   ]
  },
  {
   "cell_type": "code",
   "execution_count": 42,
   "metadata": {},
   "outputs": [
    {
     "data": {
      "text/plain": [
       "region           0\n",
       "type             0\n",
       "num_rooms        0\n",
       "num_bathrooms    0\n",
       "size             0\n",
       "price            0\n",
       "dtype: int64"
      ]
     },
     "execution_count": 42,
     "metadata": {},
     "output_type": "execute_result"
    }
   ],
   "source": [
    "df2.isnull().sum()"
   ]
  },
  {
   "cell_type": "code",
   "execution_count": 43,
   "metadata": {},
   "outputs": [
    {
     "name": "stdout",
     "output_type": "stream",
     "text": [
      "<class 'pandas.core.frame.DataFrame'>\n",
      "Index: 16102 entries, 0 to 19383\n",
      "Data columns (total 6 columns):\n",
      " #   Column         Non-Null Count  Dtype  \n",
      "---  ------         --------------  -----  \n",
      " 0   region         16102 non-null  object \n",
      " 1   type           16102 non-null  object \n",
      " 2   num_rooms      16102 non-null  int64  \n",
      " 3   num_bathrooms  16102 non-null  int64  \n",
      " 4   size           16102 non-null  float64\n",
      " 5   price          16102 non-null  float64\n",
      "dtypes: float64(2), int64(2), object(2)\n",
      "memory usage: 880.6+ KB\n"
     ]
    }
   ],
   "source": [
    "df2.info()"
   ]
  },
  {
   "cell_type": "code",
   "execution_count": 44,
   "metadata": {},
   "outputs": [
    {
     "data": {
      "text/plain": [
       "region            136\n",
       "type               16\n",
       "num_rooms          17\n",
       "num_bathrooms      18\n",
       "size             5295\n",
       "price            6289\n",
       "dtype: int64"
      ]
     },
     "execution_count": 44,
     "metadata": {},
     "output_type": "execute_result"
    }
   ],
   "source": [
    "df2.nunique()"
   ]
  },
  {
   "cell_type": "code",
   "execution_count": 45,
   "metadata": {},
   "outputs": [],
   "source": [
    "df2.drop_duplicates(inplace=True)"
   ]
  },
  {
   "cell_type": "code",
   "execution_count": 46,
   "metadata": {},
   "outputs": [],
   "source": [
    "df2 = df2[df2['num_rooms'] != 356]\n",
    "\n",
    "df2 = df2.reset_index(drop=True)"
   ]
  },
  {
   "cell_type": "code",
   "execution_count": 52,
   "metadata": {},
   "outputs": [],
   "source": [
    "df2 = df2[df2['num_bathrooms'] != 326]\n",
    "\n",
    "df2 = df2.reset_index(drop=True)"
   ]
  },
  {
   "cell_type": "code",
   "execution_count": 47,
   "metadata": {},
   "outputs": [],
   "source": [
    "df2 = df2[df2['num_bathrooms'] != 181]\n",
    "\n",
    "df2 = df2.reset_index(drop=True)"
   ]
  },
  {
   "cell_type": "code",
   "execution_count": 54,
   "metadata": {},
   "outputs": [],
   "source": [
    "df2 = df2[df2['num_bathrooms'] != 41]\n",
    "\n",
    "df2 = df2.reset_index(drop=True)"
   ]
  },
  {
   "cell_type": "code",
   "execution_count": 55,
   "metadata": {},
   "outputs": [
    {
     "data": {
      "text/html": [
       "<div>\n",
       "<style scoped>\n",
       "    .dataframe tbody tr th:only-of-type {\n",
       "        vertical-align: middle;\n",
       "    }\n",
       "\n",
       "    .dataframe tbody tr th {\n",
       "        vertical-align: top;\n",
       "    }\n",
       "\n",
       "    .dataframe thead th {\n",
       "        text-align: right;\n",
       "    }\n",
       "</style>\n",
       "<table border=\"1\" class=\"dataframe\">\n",
       "  <thead>\n",
       "    <tr style=\"text-align: right;\">\n",
       "      <th></th>\n",
       "      <th>num_rooms</th>\n",
       "      <th>num_bathrooms</th>\n",
       "      <th>size</th>\n",
       "      <th>price</th>\n",
       "    </tr>\n",
       "  </thead>\n",
       "  <tbody>\n",
       "    <tr>\n",
       "      <th>count</th>\n",
       "      <td>14492.000000</td>\n",
       "      <td>14492.000000</td>\n",
       "      <td>1.449200e+04</td>\n",
       "      <td>1.449200e+04</td>\n",
       "    </tr>\n",
       "    <tr>\n",
       "      <th>mean</th>\n",
       "      <td>2.248551</td>\n",
       "      <td>2.680582</td>\n",
       "      <td>1.208177e+03</td>\n",
       "      <td>7.499375e+06</td>\n",
       "    </tr>\n",
       "    <tr>\n",
       "      <th>std</th>\n",
       "      <td>1.378150</td>\n",
       "      <td>1.637756</td>\n",
       "      <td>9.330049e+04</td>\n",
       "      <td>3.084328e+07</td>\n",
       "    </tr>\n",
       "    <tr>\n",
       "      <th>min</th>\n",
       "      <td>1.000000</td>\n",
       "      <td>1.000000</td>\n",
       "      <td>4.000000e-01</td>\n",
       "      <td>2.500000e+02</td>\n",
       "    </tr>\n",
       "    <tr>\n",
       "      <th>25%</th>\n",
       "      <td>1.000000</td>\n",
       "      <td>1.000000</td>\n",
       "      <td>7.770000e+01</td>\n",
       "      <td>1.231330e+06</td>\n",
       "    </tr>\n",
       "    <tr>\n",
       "      <th>50%</th>\n",
       "      <td>2.000000</td>\n",
       "      <td>2.000000</td>\n",
       "      <td>1.220000e+02</td>\n",
       "      <td>2.301000e+06</td>\n",
       "    </tr>\n",
       "    <tr>\n",
       "      <th>75%</th>\n",
       "      <td>3.000000</td>\n",
       "      <td>4.000000</td>\n",
       "      <td>2.100000e+02</td>\n",
       "      <td>4.600000e+06</td>\n",
       "    </tr>\n",
       "    <tr>\n",
       "      <th>max</th>\n",
       "      <td>27.000000</td>\n",
       "      <td>27.000000</td>\n",
       "      <td>1.120350e+07</td>\n",
       "      <td>1.500000e+09</td>\n",
       "    </tr>\n",
       "  </tbody>\n",
       "</table>\n",
       "</div>"
      ],
      "text/plain": [
       "          num_rooms  num_bathrooms          size         price\n",
       "count  14492.000000   14492.000000  1.449200e+04  1.449200e+04\n",
       "mean       2.248551       2.680582  1.208177e+03  7.499375e+06\n",
       "std        1.378150       1.637756  9.330049e+04  3.084328e+07\n",
       "min        1.000000       1.000000  4.000000e-01  2.500000e+02\n",
       "25%        1.000000       1.000000  7.770000e+01  1.231330e+06\n",
       "50%        2.000000       2.000000  1.220000e+02  2.301000e+06\n",
       "75%        3.000000       4.000000  2.100000e+02  4.600000e+06\n",
       "max       27.000000      27.000000  1.120350e+07  1.500000e+09"
      ]
     },
     "execution_count": 55,
     "metadata": {},
     "output_type": "execute_result"
    }
   ],
   "source": [
    "df2.describe()"
   ]
  },
  {
   "cell_type": "code",
   "execution_count": 49,
   "metadata": {},
   "outputs": [
    {
     "name": "stdout",
     "output_type": "stream",
     "text": [
      "<class 'pandas.core.frame.DataFrame'>\n",
      "RangeIndex: 15072 entries, 0 to 15071\n",
      "Data columns (total 6 columns):\n",
      " #   Column         Non-Null Count  Dtype  \n",
      "---  ------         --------------  -----  \n",
      " 0   region         15072 non-null  object \n",
      " 1   type           15072 non-null  object \n",
      " 2   num_rooms      15072 non-null  int64  \n",
      " 3   num_bathrooms  15072 non-null  int64  \n",
      " 4   size           15072 non-null  float64\n",
      " 5   price          15072 non-null  float64\n",
      "dtypes: float64(2), int64(2), object(2)\n",
      "memory usage: 706.6+ KB\n"
     ]
    }
   ],
   "source": [
    "df2.info()"
   ]
  },
  {
   "cell_type": "code",
   "execution_count": 57,
   "metadata": {},
   "outputs": [
    {
     "name": "stdout",
     "output_type": "stream",
     "text": [
      "<class 'pandas.core.frame.DataFrame'>\n",
      "RangeIndex: 14492 entries, 0 to 14491\n",
      "Data columns (total 6 columns):\n",
      " #   Column         Non-Null Count  Dtype  \n",
      "---  ------         --------------  -----  \n",
      " 0   region         14492 non-null  object \n",
      " 1   type           14492 non-null  object \n",
      " 2   num_rooms      14492 non-null  int64  \n",
      " 3   num_bathrooms  14492 non-null  int64  \n",
      " 4   size           14492 non-null  float64\n",
      " 5   price          14492 non-null  float64\n",
      "dtypes: float64(2), int64(2), object(2)\n",
      "memory usage: 679.4+ KB\n"
     ]
    }
   ],
   "source": [
    "df2 = df2[df2['region'] != 'Dubai Hills Estate']\n",
    "\n",
    "df2.info()"
   ]
  },
  {
   "cell_type": "code",
   "execution_count": 58,
   "metadata": {},
   "outputs": [
    {
     "data": {
      "text/plain": [
       "array(['Dubai Marina', 'Nadd Al Sheba', 'Umm Suqeim',\n",
       "       'Jumeirah Lake Towers', 'Meydan One',\n",
       "       'Downtown Dubai (Downtown Burj Dubai)',\n",
       "       'Dubai Creek Harbour (The Lagoons)', 'Jumeirah Village Circle',\n",
       "       'Arjan', 'Al Furjan', 'Sheikh Zayed Road', 'Rukan',\n",
       "       'Maritime City', 'Palm Jumeirah', 'Business Bay', 'Meydan',\n",
       "       'Dubai Harbour', 'Dubai Studio City', 'Al Safa',\n",
       "       'DAMAC Hills (Akoya by DAMAC)', 'International City',\n",
       "       'Dubai Airport Freezone (DAFZA)', 'Al Warsan', 'Dubai Land',\n",
       "       'Bluewaters', 'Jumeirah Beach Residence', 'EMAAR South',\n",
       "       'Burj Khalifa', 'Dubai Silicon Oasis', 'Technology Park',\n",
       "       'Meydan Avenue', 'Al Barsha', 'Town Square', 'Al Khawaneej',\n",
       "       'Serena', 'Jumeirah', 'Dubai Sports City', 'Jebel Ali',\n",
       "       'Al Jaddaf', 'Jumeirah Village Triangle',\n",
       "       'Mohammed Bin Rashid City', 'Dubai Science Park', 'Remraam',\n",
       "       'Tilal Al Ghaf', 'Al Sufouh', 'Reem', 'Arabian Ranches 3',\n",
       "       'Culture Village', 'Basswood', 'Jumeirah Golf Estates',\n",
       "       'Arabian Ranches', 'Dubai South (Dubai World Central)',\n",
       "       'City Walk', 'Downtown Jebel Ali', 'wasl gate', 'Living Legends',\n",
       "       'Jumeirah Park', 'DIFC', 'Motor City', 'Mirdif', 'The Springs',\n",
       "       'Greens', 'Dubai Media City', 'Arabian Ranches 2', 'Al Mizhar',\n",
       "       'Meadows', 'Dubai Residence Complex', 'The Views',\n",
       "       'Dubai Production City (IMPZ)', 'Old Town', 'Dubai Internet City',\n",
       "       'Pacifica', 'Dubai Festival City', 'Majan',\n",
       "       'Dubai Healthcare City', 'Dubai Creek Harbour', 'Al Quoz',\n",
       "       'Al Barari', 'The Villa', 'The Sustainable City', 'Mudon',\n",
       "       'Bur Dubai', 'Al Twar', 'Jumeirah Islands', 'Al Wasl',\n",
       "       'Discovery Gardens', 'Falcon City of Wonders', 'Phoenix',\n",
       "       'Al Muhaisnah', 'Deira', 'Dubai Industrial Park', 'Golf City',\n",
       "       'Emirates Hills', 'Ras Al Khor', 'Trump Estates',\n",
       "       'Dubai Investment Park', 'Picadilly Green', 'Al Hamriya',\n",
       "       'Dubai Waterfront', 'Jumeirah Heights', 'The Valley', 'Al Kifaf',\n",
       "       'Albizia', 'Aquilegia', 'Wadi Al Safa 2', 'Zinnia', 'Avencia',\n",
       "       'Al Satwa', 'Green Community', 'Millennium Estates',\n",
       "       'The Heart of Europe', 'Springs 4', 'Amaranta',\n",
       "       'Barsha Heights (Tecom)', 'Al Garhoud', 'Al Rashidiya',\n",
       "       'District 7', 'The Hills', 'The World Islands', 'Sobha Hartland',\n",
       "       'Al Barsha South', 'District One', 'Harmony', 'Pearl Jumeirah',\n",
       "       'Palm Jebel Ali', 'Dubai Design District', 'EMAAR Beachfront',\n",
       "       'Umm Al Sheif', 'The Lakes', 'Masdar City', 'Vardon',\n",
       "       'Naseem Townhouses', 'Al Qusais', 'Madinat Jumeirah Living',\n",
       "       'Elan'], dtype=object)"
      ]
     },
     "execution_count": 58,
     "metadata": {},
     "output_type": "execute_result"
    }
   ],
   "source": [
    "df2['region'].unique()"
   ]
  }
 ],
 "metadata": {
  "kernelspec": {
   "display_name": "Python 3",
   "language": "python",
   "name": "python3"
  },
  "language_info": {
   "codemirror_mode": {
    "name": "ipython",
    "version": 3
   },
   "file_extension": ".py",
   "mimetype": "text/x-python",
   "name": "python",
   "nbconvert_exporter": "python",
   "pygments_lexer": "ipython3",
   "version": "3.11.3"
  },
  "orig_nbformat": 4
 },
 "nbformat": 4,
 "nbformat_minor": 2
}
