{
 "cells": [
  {
   "cell_type": "markdown",
   "metadata": {},
   "source": [
    "# Preprocessing the properties dataset\n"
   ]
  },
  {
   "cell_type": "markdown",
   "metadata": {},
   "source": [
    "### Importing the libraries"
   ]
  },
  {
   "cell_type": "code",
   "execution_count": 2,
   "metadata": {},
   "outputs": [],
   "source": [
    "import mysql.connector\n",
    "from mysql.connector import Error\n",
    "import pandas as pd\n",
    "from dotenv import load_dotenv\n",
    "import numpy as np\n",
    "import seaborn as sns\n",
    "import matplotlib.pyplot as plt\n",
    "import os"
   ]
  },
  {
   "cell_type": "markdown",
   "metadata": {},
   "source": [
    "### Importing the dataset"
   ]
  },
  {
   "cell_type": "code",
   "execution_count": 55,
   "metadata": {},
   "outputs": [
    {
     "name": "stdout",
     "output_type": "stream",
     "text": [
      "Connected to MySQL database\n",
      "MySQL connection closed\n"
     ]
    },
    {
     "name": "stderr",
     "output_type": "stream",
     "text": [
      "/var/folders/z3/qv2p67717670lmtsx4lfkzpw0000gn/T/ipykernel_6616/1262242826.py:18: UserWarning: pandas only supports SQLAlchemy connectable (engine/connection) or database string URI or sqlite3 DBAPI2 connection. Other DBAPI2 objects are not tested. Please consider using SQLAlchemy.\n",
      "  df = pd.read_sql(sql_query, connection)\n"
     ]
    }
   ],
   "source": [
    "# Description: This script is used to connect to the MySQL database and fetch data from the property_info table.\n",
    "# Load environment variables\n",
    "load_dotenv()\n",
    "\n",
    "try:\n",
    "    connection = mysql.connector.connect(\n",
    "        host=os.getenv('DB_HOST'),\n",
    "        user=os.getenv('DB_USER'),\n",
    "        password=os.getenv('DB_PASSWORD'),\n",
    "        database='properties'\n",
    "    )\n",
    "\n",
    "    if connection.is_connected():\n",
    "        print('Connected to MySQL database')\n",
    "\n",
    "    # Define your SQL query and fetch data\n",
    "    sql_query = \"SELECT * FROM property_info\"\n",
    "    df = pd.read_sql(sql_query, connection)\n",
    "\n",
    "except Error as e:\n",
    "    print(f\"Error: {e}\")\n",
    "\n",
    "finally:\n",
    "    # Close the connection\n",
    "    if connection.is_connected():\n",
    "        connection.close()\n",
    "        print('MySQL connection closed')\n"
   ]
  },
  {
   "cell_type": "markdown",
   "metadata": {},
   "source": [
    "### Start preprocessing"
   ]
  },
  {
   "cell_type": "code",
   "execution_count": 4,
   "metadata": {},
   "outputs": [
    {
     "data": {
      "text/html": [
       "<div>\n",
       "<style scoped>\n",
       "    .dataframe tbody tr th:only-of-type {\n",
       "        vertical-align: middle;\n",
       "    }\n",
       "\n",
       "    .dataframe tbody tr th {\n",
       "        vertical-align: top;\n",
       "    }\n",
       "\n",
       "    .dataframe thead th {\n",
       "        text-align: right;\n",
       "    }\n",
       "</style>\n",
       "<table border=\"1\" class=\"dataframe\">\n",
       "  <thead>\n",
       "    <tr style=\"text-align: right;\">\n",
       "      <th></th>\n",
       "      <th>id</th>\n",
       "      <th>url</th>\n",
       "      <th>title</th>\n",
       "      <th>city</th>\n",
       "      <th>region</th>\n",
       "      <th>type</th>\n",
       "      <th>num_rooms</th>\n",
       "      <th>num_bathrooms</th>\n",
       "      <th>size</th>\n",
       "      <th>price</th>\n",
       "    </tr>\n",
       "  </thead>\n",
       "  <tbody>\n",
       "    <tr>\n",
       "      <th>37144</th>\n",
       "      <td>37145</td>\n",
       "      <td>https://emirates.estate/o127173/</td>\n",
       "      <td>Apartment in Jumeirah Village Circle, № 127173</td>\n",
       "      <td>Dubai</td>\n",
       "      <td>Jumeirah Village Circle</td>\n",
       "      <td>Apartment</td>\n",
       "      <td>2</td>\n",
       "      <td>2</td>\n",
       "      <td>111.50</td>\n",
       "      <td>995780.0</td>\n",
       "    </tr>\n",
       "    <tr>\n",
       "      <th>37145</th>\n",
       "      <td>37146</td>\n",
       "      <td>https://emirates.estate/property/o116454/</td>\n",
       "      <td>Apartment in Dubai Harbour, № 116454</td>\n",
       "      <td>Dubai</td>\n",
       "      <td>Dubai Harbour</td>\n",
       "      <td>Apartment</td>\n",
       "      <td>1</td>\n",
       "      <td>1</td>\n",
       "      <td>81.29</td>\n",
       "      <td>2800000.0</td>\n",
       "    </tr>\n",
       "    <tr>\n",
       "      <th>37146</th>\n",
       "      <td>37147</td>\n",
       "      <td>https://emirates.estate/o129296/</td>\n",
       "      <td>Apartment in CREEK RISE in Dubai Creek Harbour...</td>\n",
       "      <td>Dubai</td>\n",
       "      <td>Dubai Creek Harbour (The Lagoons)</td>\n",
       "      <td>Apartment</td>\n",
       "      <td>3</td>\n",
       "      <td>3</td>\n",
       "      <td>102.00</td>\n",
       "      <td>3216890.0</td>\n",
       "    </tr>\n",
       "    <tr>\n",
       "      <th>37147</th>\n",
       "      <td>37148</td>\n",
       "      <td>https://emirates.estate/property/o131530/</td>\n",
       "      <td>Apartment in Dubai, № 131530</td>\n",
       "      <td>Dubai</td>\n",
       "      <td>None</td>\n",
       "      <td>Apartment</td>\n",
       "      <td>2</td>\n",
       "      <td>3</td>\n",
       "      <td>102.20</td>\n",
       "      <td>698000.0</td>\n",
       "    </tr>\n",
       "    <tr>\n",
       "      <th>37148</th>\n",
       "      <td>37149</td>\n",
       "      <td>https://emirates.estate/o128931/</td>\n",
       "      <td>Apartment in JEWELZ in Arjan,  UAE 2 bedrooms ...</td>\n",
       "      <td>Dubai</td>\n",
       "      <td>Arjan</td>\n",
       "      <td>Apartment</td>\n",
       "      <td>2</td>\n",
       "      <td>2</td>\n",
       "      <td>37.00</td>\n",
       "      <td>1141000.0</td>\n",
       "    </tr>\n",
       "  </tbody>\n",
       "</table>\n",
       "</div>"
      ],
      "text/plain": [
       "          id                                        url  \\\n",
       "37144  37145           https://emirates.estate/o127173/   \n",
       "37145  37146  https://emirates.estate/property/o116454/   \n",
       "37146  37147           https://emirates.estate/o129296/   \n",
       "37147  37148  https://emirates.estate/property/o131530/   \n",
       "37148  37149           https://emirates.estate/o128931/   \n",
       "\n",
       "                                                   title   city  \\\n",
       "37144     Apartment in Jumeirah Village Circle, № 127173  Dubai   \n",
       "37145               Apartment in Dubai Harbour, № 116454  Dubai   \n",
       "37146  Apartment in CREEK RISE in Dubai Creek Harbour...  Dubai   \n",
       "37147                       Apartment in Dubai, № 131530  Dubai   \n",
       "37148  Apartment in JEWELZ in Arjan,  UAE 2 bedrooms ...  Dubai   \n",
       "\n",
       "                                  region       type  num_rooms  num_bathrooms  \\\n",
       "37144            Jumeirah Village Circle  Apartment          2              2   \n",
       "37145                      Dubai Harbour  Apartment          1              1   \n",
       "37146  Dubai Creek Harbour (The Lagoons)  Apartment          3              3   \n",
       "37147                               None  Apartment          2              3   \n",
       "37148                              Arjan  Apartment          2              2   \n",
       "\n",
       "         size      price  \n",
       "37144  111.50   995780.0  \n",
       "37145   81.29  2800000.0  \n",
       "37146  102.00  3216890.0  \n",
       "37147  102.20   698000.0  \n",
       "37148   37.00  1141000.0  "
      ]
     },
     "execution_count": 4,
     "metadata": {},
     "output_type": "execute_result"
    }
   ],
   "source": [
    "df.tail()"
   ]
  },
  {
   "cell_type": "code",
   "execution_count": 5,
   "metadata": {},
   "outputs": [
    {
     "name": "stdout",
     "output_type": "stream",
     "text": [
      "<class 'pandas.core.frame.DataFrame'>\n",
      "RangeIndex: 37149 entries, 0 to 37148\n",
      "Data columns (total 10 columns):\n",
      " #   Column         Non-Null Count  Dtype  \n",
      "---  ------         --------------  -----  \n",
      " 0   id             37149 non-null  int64  \n",
      " 1   url            37149 non-null  object \n",
      " 2   title          37149 non-null  object \n",
      " 3   city           37149 non-null  object \n",
      " 4   region         30461 non-null  object \n",
      " 5   type           37119 non-null  object \n",
      " 6   num_rooms      37149 non-null  int64  \n",
      " 7   num_bathrooms  37149 non-null  int64  \n",
      " 8   size           37149 non-null  float64\n",
      " 9   price          37149 non-null  float64\n",
      "dtypes: float64(2), int64(3), object(5)\n",
      "memory usage: 2.8+ MB\n"
     ]
    }
   ],
   "source": [
    "df.info()"
   ]
  },
  {
   "cell_type": "code",
   "execution_count": 6,
   "metadata": {},
   "outputs": [
    {
     "data": {
      "text/plain": [
       "id               37149\n",
       "url              33173\n",
       "title            33244\n",
       "city                 1\n",
       "region             142\n",
       "type                16\n",
       "num_rooms           23\n",
       "num_bathrooms       22\n",
       "size              7127\n",
       "price             9526\n",
       "dtype: int64"
      ]
     },
     "execution_count": 6,
     "metadata": {},
     "output_type": "execute_result"
    }
   ],
   "source": [
    "df.nunique()"
   ]
  },
  {
   "cell_type": "code",
   "execution_count": 7,
   "metadata": {},
   "outputs": [
    {
     "data": {
      "text/html": [
       "<div>\n",
       "<style scoped>\n",
       "    .dataframe tbody tr th:only-of-type {\n",
       "        vertical-align: middle;\n",
       "    }\n",
       "\n",
       "    .dataframe tbody tr th {\n",
       "        vertical-align: top;\n",
       "    }\n",
       "\n",
       "    .dataframe thead th {\n",
       "        text-align: right;\n",
       "    }\n",
       "</style>\n",
       "<table border=\"1\" class=\"dataframe\">\n",
       "  <thead>\n",
       "    <tr style=\"text-align: right;\">\n",
       "      <th></th>\n",
       "      <th>id</th>\n",
       "      <th>num_rooms</th>\n",
       "      <th>num_bathrooms</th>\n",
       "      <th>size</th>\n",
       "      <th>price</th>\n",
       "    </tr>\n",
       "  </thead>\n",
       "  <tbody>\n",
       "    <tr>\n",
       "      <th>count</th>\n",
       "      <td>37149.000000</td>\n",
       "      <td>37149.000000</td>\n",
       "      <td>37149.000000</td>\n",
       "      <td>3.714900e+04</td>\n",
       "      <td>3.714900e+04</td>\n",
       "    </tr>\n",
       "    <tr>\n",
       "      <th>mean</th>\n",
       "      <td>18575.000000</td>\n",
       "      <td>2.429971</td>\n",
       "      <td>2.821099</td>\n",
       "      <td>1.497516e+03</td>\n",
       "      <td>7.940347e+06</td>\n",
       "    </tr>\n",
       "    <tr>\n",
       "      <th>std</th>\n",
       "      <td>10724.136912</td>\n",
       "      <td>2.692233</td>\n",
       "      <td>2.589525</td>\n",
       "      <td>1.216711e+05</td>\n",
       "      <td>3.821790e+07</td>\n",
       "    </tr>\n",
       "    <tr>\n",
       "      <th>min</th>\n",
       "      <td>1.000000</td>\n",
       "      <td>1.000000</td>\n",
       "      <td>1.000000</td>\n",
       "      <td>4.000000e-01</td>\n",
       "      <td>2.500000e+02</td>\n",
       "    </tr>\n",
       "    <tr>\n",
       "      <th>25%</th>\n",
       "      <td>9288.000000</td>\n",
       "      <td>1.000000</td>\n",
       "      <td>1.000000</td>\n",
       "      <td>7.950000e+01</td>\n",
       "      <td>1.404000e+06</td>\n",
       "    </tr>\n",
       "    <tr>\n",
       "      <th>50%</th>\n",
       "      <td>18575.000000</td>\n",
       "      <td>2.000000</td>\n",
       "      <td>2.000000</td>\n",
       "      <td>1.308000e+02</td>\n",
       "      <td>2.534030e+06</td>\n",
       "    </tr>\n",
       "    <tr>\n",
       "      <th>75%</th>\n",
       "      <td>27862.000000</td>\n",
       "      <td>3.000000</td>\n",
       "      <td>4.000000</td>\n",
       "      <td>2.402000e+02</td>\n",
       "      <td>4.999950e+06</td>\n",
       "    </tr>\n",
       "    <tr>\n",
       "      <th>max</th>\n",
       "      <td>37149.000000</td>\n",
       "      <td>356.000000</td>\n",
       "      <td>326.000000</td>\n",
       "      <td>1.858050e+07</td>\n",
       "      <td>1.958890e+09</td>\n",
       "    </tr>\n",
       "  </tbody>\n",
       "</table>\n",
       "</div>"
      ],
      "text/plain": [
       "                 id     num_rooms  num_bathrooms          size         price\n",
       "count  37149.000000  37149.000000   37149.000000  3.714900e+04  3.714900e+04\n",
       "mean   18575.000000      2.429971       2.821099  1.497516e+03  7.940347e+06\n",
       "std    10724.136912      2.692233       2.589525  1.216711e+05  3.821790e+07\n",
       "min        1.000000      1.000000       1.000000  4.000000e-01  2.500000e+02\n",
       "25%     9288.000000      1.000000       1.000000  7.950000e+01  1.404000e+06\n",
       "50%    18575.000000      2.000000       2.000000  1.308000e+02  2.534030e+06\n",
       "75%    27862.000000      3.000000       4.000000  2.402000e+02  4.999950e+06\n",
       "max    37149.000000    356.000000     326.000000  1.858050e+07  1.958890e+09"
      ]
     },
     "execution_count": 7,
     "metadata": {},
     "output_type": "execute_result"
    }
   ],
   "source": [
    "df.describe()"
   ]
  },
  {
   "cell_type": "code",
   "execution_count": 8,
   "metadata": {},
   "outputs": [
    {
     "data": {
      "text/plain": [
       "id                  0\n",
       "url                 0\n",
       "title               0\n",
       "city                0\n",
       "region           6688\n",
       "type               30\n",
       "num_rooms           0\n",
       "num_bathrooms       0\n",
       "size                0\n",
       "price               0\n",
       "dtype: int64"
      ]
     },
     "execution_count": 8,
     "metadata": {},
     "output_type": "execute_result"
    }
   ],
   "source": [
    "df.isnull().sum()"
   ]
  },
  {
   "cell_type": "code",
   "execution_count": 9,
   "metadata": {},
   "outputs": [
    {
     "data": {
      "text/html": [
       "<div>\n",
       "<style scoped>\n",
       "    .dataframe tbody tr th:only-of-type {\n",
       "        vertical-align: middle;\n",
       "    }\n",
       "\n",
       "    .dataframe tbody tr th {\n",
       "        vertical-align: top;\n",
       "    }\n",
       "\n",
       "    .dataframe thead th {\n",
       "        text-align: right;\n",
       "    }\n",
       "</style>\n",
       "<table border=\"1\" class=\"dataframe\">\n",
       "  <thead>\n",
       "    <tr style=\"text-align: right;\">\n",
       "      <th></th>\n",
       "      <th>id</th>\n",
       "      <th>url</th>\n",
       "      <th>title</th>\n",
       "      <th>city</th>\n",
       "      <th>region</th>\n",
       "      <th>type</th>\n",
       "      <th>num_rooms</th>\n",
       "      <th>num_bathrooms</th>\n",
       "      <th>size</th>\n",
       "      <th>price</th>\n",
       "    </tr>\n",
       "  </thead>\n",
       "  <tbody>\n",
       "  </tbody>\n",
       "</table>\n",
       "</div>"
      ],
      "text/plain": [
       "Empty DataFrame\n",
       "Columns: [id, url, title, city, region, type, num_rooms, num_bathrooms, size, price]\n",
       "Index: []"
      ]
     },
     "execution_count": 9,
     "metadata": {},
     "output_type": "execute_result"
    }
   ],
   "source": [
    "df[df['size'] < 0]"
   ]
  },
  {
   "cell_type": "code",
   "execution_count": 10,
   "metadata": {},
   "outputs": [],
   "source": [
    "df = df.groupby('region').filter(lambda x: len(x) > 5)"
   ]
  },
  {
   "cell_type": "code",
   "execution_count": 11,
   "metadata": {},
   "outputs": [],
   "source": [
    "df2 = df.copy(deep=True)\n",
    "df2.drop([\"id\", \"url\", \"title\", \"city\"], axis=1, inplace=True)"
   ]
  },
  {
   "cell_type": "code",
   "execution_count": 12,
   "metadata": {},
   "outputs": [],
   "source": [
    "df2.dropna(subset=['region', 'type'], axis=0, inplace=True)"
   ]
  },
  {
   "cell_type": "code",
   "execution_count": 13,
   "metadata": {},
   "outputs": [
    {
     "data": {
      "text/html": [
       "<div>\n",
       "<style scoped>\n",
       "    .dataframe tbody tr th:only-of-type {\n",
       "        vertical-align: middle;\n",
       "    }\n",
       "\n",
       "    .dataframe tbody tr th {\n",
       "        vertical-align: top;\n",
       "    }\n",
       "\n",
       "    .dataframe thead th {\n",
       "        text-align: right;\n",
       "    }\n",
       "</style>\n",
       "<table border=\"1\" class=\"dataframe\">\n",
       "  <thead>\n",
       "    <tr style=\"text-align: right;\">\n",
       "      <th></th>\n",
       "      <th>region</th>\n",
       "      <th>type</th>\n",
       "      <th>num_rooms</th>\n",
       "      <th>num_bathrooms</th>\n",
       "      <th>size</th>\n",
       "      <th>price</th>\n",
       "    </tr>\n",
       "  </thead>\n",
       "  <tbody>\n",
       "    <tr>\n",
       "      <th>37143</th>\n",
       "      <td>Remraam</td>\n",
       "      <td>Apartment</td>\n",
       "      <td>2</td>\n",
       "      <td>3</td>\n",
       "      <td>139.20</td>\n",
       "      <td>870000.0</td>\n",
       "    </tr>\n",
       "    <tr>\n",
       "      <th>37144</th>\n",
       "      <td>Jumeirah Village Circle</td>\n",
       "      <td>Apartment</td>\n",
       "      <td>2</td>\n",
       "      <td>2</td>\n",
       "      <td>111.50</td>\n",
       "      <td>995780.0</td>\n",
       "    </tr>\n",
       "    <tr>\n",
       "      <th>37145</th>\n",
       "      <td>Dubai Harbour</td>\n",
       "      <td>Apartment</td>\n",
       "      <td>1</td>\n",
       "      <td>1</td>\n",
       "      <td>81.29</td>\n",
       "      <td>2800000.0</td>\n",
       "    </tr>\n",
       "    <tr>\n",
       "      <th>37146</th>\n",
       "      <td>Dubai Creek Harbour (The Lagoons)</td>\n",
       "      <td>Apartment</td>\n",
       "      <td>3</td>\n",
       "      <td>3</td>\n",
       "      <td>102.00</td>\n",
       "      <td>3216890.0</td>\n",
       "    </tr>\n",
       "    <tr>\n",
       "      <th>37148</th>\n",
       "      <td>Arjan</td>\n",
       "      <td>Apartment</td>\n",
       "      <td>2</td>\n",
       "      <td>2</td>\n",
       "      <td>37.00</td>\n",
       "      <td>1141000.0</td>\n",
       "    </tr>\n",
       "  </tbody>\n",
       "</table>\n",
       "</div>"
      ],
      "text/plain": [
       "                                  region       type  num_rooms  num_bathrooms  \\\n",
       "37143                            Remraam  Apartment          2              3   \n",
       "37144            Jumeirah Village Circle  Apartment          2              2   \n",
       "37145                      Dubai Harbour  Apartment          1              1   \n",
       "37146  Dubai Creek Harbour (The Lagoons)  Apartment          3              3   \n",
       "37148                              Arjan  Apartment          2              2   \n",
       "\n",
       "         size      price  \n",
       "37143  139.20   870000.0  \n",
       "37144  111.50   995780.0  \n",
       "37145   81.29  2800000.0  \n",
       "37146  102.00  3216890.0  \n",
       "37148   37.00  1141000.0  "
      ]
     },
     "execution_count": 13,
     "metadata": {},
     "output_type": "execute_result"
    }
   ],
   "source": [
    "df2.tail()"
   ]
  },
  {
   "cell_type": "code",
   "execution_count": 14,
   "metadata": {},
   "outputs": [
    {
     "data": {
      "text/plain": [
       "region           0\n",
       "type             0\n",
       "num_rooms        0\n",
       "num_bathrooms    0\n",
       "size             0\n",
       "price            0\n",
       "dtype: int64"
      ]
     },
     "execution_count": 14,
     "metadata": {},
     "output_type": "execute_result"
    }
   ],
   "source": [
    "df2.isnull().sum()"
   ]
  },
  {
   "cell_type": "code",
   "execution_count": 15,
   "metadata": {},
   "outputs": [
    {
     "name": "stdout",
     "output_type": "stream",
     "text": [
      "<class 'pandas.core.frame.DataFrame'>\n",
      "RangeIndex: 30368 entries, 0 to 30367\n",
      "Data columns (total 6 columns):\n",
      " #   Column         Non-Null Count  Dtype  \n",
      "---  ------         --------------  -----  \n",
      " 0   region         30368 non-null  object \n",
      " 1   type           30368 non-null  object \n",
      " 2   num_rooms      30368 non-null  int64  \n",
      " 3   num_bathrooms  30368 non-null  int64  \n",
      " 4   size           30368 non-null  float64\n",
      " 5   price          30368 non-null  float64\n",
      "dtypes: float64(2), int64(2), object(2)\n",
      "memory usage: 1.4+ MB\n"
     ]
    }
   ],
   "source": [
    "df2.reset_index(drop=True, inplace=True)\n",
    "df2.info()"
   ]
  },
  {
   "cell_type": "code",
   "execution_count": 16,
   "metadata": {},
   "outputs": [
    {
     "data": {
      "text/plain": [
       "region            105\n",
       "type               16\n",
       "num_rooms          21\n",
       "num_bathrooms      21\n",
       "size             6366\n",
       "price            8066\n",
       "dtype: int64"
      ]
     },
     "execution_count": 16,
     "metadata": {},
     "output_type": "execute_result"
    }
   ],
   "source": [
    "df2.nunique()"
   ]
  },
  {
   "cell_type": "code",
   "execution_count": 17,
   "metadata": {},
   "outputs": [],
   "source": [
    "df2.drop_duplicates(inplace=True)"
   ]
  },
  {
   "cell_type": "code",
   "execution_count": 18,
   "metadata": {},
   "outputs": [
    {
     "data": {
      "text/html": [
       "<div>\n",
       "<style scoped>\n",
       "    .dataframe tbody tr th:only-of-type {\n",
       "        vertical-align: middle;\n",
       "    }\n",
       "\n",
       "    .dataframe tbody tr th {\n",
       "        vertical-align: top;\n",
       "    }\n",
       "\n",
       "    .dataframe thead th {\n",
       "        text-align: right;\n",
       "    }\n",
       "</style>\n",
       "<table border=\"1\" class=\"dataframe\">\n",
       "  <thead>\n",
       "    <tr style=\"text-align: right;\">\n",
       "      <th></th>\n",
       "      <th>num_rooms</th>\n",
       "      <th>num_bathrooms</th>\n",
       "      <th>size</th>\n",
       "      <th>price</th>\n",
       "    </tr>\n",
       "  </thead>\n",
       "  <tbody>\n",
       "    <tr>\n",
       "      <th>count</th>\n",
       "      <td>24423.000000</td>\n",
       "      <td>24423.000000</td>\n",
       "      <td>2.442300e+04</td>\n",
       "      <td>2.442300e+04</td>\n",
       "    </tr>\n",
       "    <tr>\n",
       "      <th>mean</th>\n",
       "      <td>2.271097</td>\n",
       "      <td>2.726119</td>\n",
       "      <td>8.290356e+02</td>\n",
       "      <td>7.373551e+06</td>\n",
       "    </tr>\n",
       "    <tr>\n",
       "      <th>std</th>\n",
       "      <td>2.667331</td>\n",
       "      <td>2.897457</td>\n",
       "      <td>7.187820e+04</td>\n",
       "      <td>3.527260e+07</td>\n",
       "    </tr>\n",
       "    <tr>\n",
       "      <th>min</th>\n",
       "      <td>1.000000</td>\n",
       "      <td>1.000000</td>\n",
       "      <td>4.000000e-01</td>\n",
       "      <td>2.500000e+02</td>\n",
       "    </tr>\n",
       "    <tr>\n",
       "      <th>25%</th>\n",
       "      <td>1.000000</td>\n",
       "      <td>1.000000</td>\n",
       "      <td>7.700000e+01</td>\n",
       "      <td>1.376915e+06</td>\n",
       "    </tr>\n",
       "    <tr>\n",
       "      <th>50%</th>\n",
       "      <td>2.000000</td>\n",
       "      <td>2.000000</td>\n",
       "      <td>1.224000e+02</td>\n",
       "      <td>2.500000e+06</td>\n",
       "    </tr>\n",
       "    <tr>\n",
       "      <th>75%</th>\n",
       "      <td>3.000000</td>\n",
       "      <td>4.000000</td>\n",
       "      <td>2.118000e+02</td>\n",
       "      <td>4.800000e+06</td>\n",
       "    </tr>\n",
       "    <tr>\n",
       "      <th>max</th>\n",
       "      <td>356.000000</td>\n",
       "      <td>326.000000</td>\n",
       "      <td>1.120350e+07</td>\n",
       "      <td>1.958890e+09</td>\n",
       "    </tr>\n",
       "  </tbody>\n",
       "</table>\n",
       "</div>"
      ],
      "text/plain": [
       "          num_rooms  num_bathrooms          size         price\n",
       "count  24423.000000   24423.000000  2.442300e+04  2.442300e+04\n",
       "mean       2.271097       2.726119  8.290356e+02  7.373551e+06\n",
       "std        2.667331       2.897457  7.187820e+04  3.527260e+07\n",
       "min        1.000000       1.000000  4.000000e-01  2.500000e+02\n",
       "25%        1.000000       1.000000  7.700000e+01  1.376915e+06\n",
       "50%        2.000000       2.000000  1.224000e+02  2.500000e+06\n",
       "75%        3.000000       4.000000  2.118000e+02  4.800000e+06\n",
       "max      356.000000     326.000000  1.120350e+07  1.958890e+09"
      ]
     },
     "execution_count": 18,
     "metadata": {},
     "output_type": "execute_result"
    }
   ],
   "source": [
    "df2.describe()"
   ]
  },
  {
   "cell_type": "code",
   "execution_count": 19,
   "metadata": {},
   "outputs": [
    {
     "name": "stdout",
     "output_type": "stream",
     "text": [
      "<class 'pandas.core.frame.DataFrame'>\n",
      "Index: 24423 entries, 0 to 30316\n",
      "Data columns (total 6 columns):\n",
      " #   Column         Non-Null Count  Dtype  \n",
      "---  ------         --------------  -----  \n",
      " 0   region         24423 non-null  object \n",
      " 1   type           24423 non-null  object \n",
      " 2   num_rooms      24423 non-null  int64  \n",
      " 3   num_bathrooms  24423 non-null  int64  \n",
      " 4   size           24423 non-null  float64\n",
      " 5   price          24423 non-null  float64\n",
      "dtypes: float64(2), int64(2), object(2)\n",
      "memory usage: 1.3+ MB\n"
     ]
    }
   ],
   "source": [
    "df2.info()"
   ]
  },
  {
   "cell_type": "markdown",
   "metadata": {},
   "source": [
    "### Encoding categorical data"
   ]
  },
  {
   "cell_type": "code",
   "execution_count": 20,
   "metadata": {},
   "outputs": [
    {
     "name": "stderr",
     "output_type": "stream",
     "text": [
      "/opt/homebrew/lib/python3.11/site-packages/sklearn/preprocessing/_encoders.py:972: FutureWarning: `sparse` was renamed to `sparse_output` in version 1.2 and will be removed in 1.4. `sparse_output` is ignored unless you leave `sparse` to its default value.\n",
      "  warnings.warn(\n"
     ]
    }
   ],
   "source": [
    "from sklearn.preprocessing import OneHotEncoder\n",
    "\n",
    "encoder = OneHotEncoder(sparse=False)\n",
    "one_hot_encoded = encoder.fit_transform(df2[['region', 'type']])\n",
    "\n",
    "encoded_data = pd.DataFrame(one_hot_encoded, columns=encoder.get_feature_names_out(['region', 'type']))\n",
    "\n",
    "# Reset the index\n",
    "df2 = df2.reset_index(drop=True)\n",
    "encoded_data = encoded_data.reset_index(drop=True)\n",
    "\n",
    "df3 = pd.concat([df2.drop(columns=['region', 'type']), encoded_data], axis=1)"
   ]
  },
  {
   "cell_type": "code",
   "execution_count": 21,
   "metadata": {},
   "outputs": [],
   "source": [
    "# df3 = df2.copy(deep=True)\n",
    "\n",
    "# df3 = pd.get_dummies(df3, columns=['region', 'type'], drop_first=True)\n",
    "\n",
    "# bool_cols = df3.select_dtypes(include='bool').columns\n",
    "# df3[bool_cols] = df3[bool_cols].astype('int64')\n",
    "\n",
    "# df3.reset_index(drop=True, inplace=True)\n"
   ]
  },
  {
   "cell_type": "code",
   "execution_count": 22,
   "metadata": {},
   "outputs": [
    {
     "name": "stdout",
     "output_type": "stream",
     "text": [
      "type_Apartment\n",
      "type_Building\n",
      "type_Cafe / restaurant\n",
      "type_Commercial property\n",
      "type_Duplex\n",
      "type_Factory\n",
      "type_Hotel\n",
      "type_Hotel Apartment\n",
      "type_Labor Camp\n",
      "type_Land\n",
      "type_Office\n",
      "type_Penthouse\n",
      "type_Shop\n",
      "type_Townhouse\n",
      "type_Villa\n",
      "type_Warehouse\n"
     ]
    }
   ],
   "source": [
    "for col in df3.columns:\n",
    "    if 'type' in col: \n",
    "        print(col)"
   ]
  },
  {
   "cell_type": "code",
   "execution_count": 23,
   "metadata": {},
   "outputs": [
    {
     "data": {
      "text/html": [
       "<div>\n",
       "<style scoped>\n",
       "    .dataframe tbody tr th:only-of-type {\n",
       "        vertical-align: middle;\n",
       "    }\n",
       "\n",
       "    .dataframe tbody tr th {\n",
       "        vertical-align: top;\n",
       "    }\n",
       "\n",
       "    .dataframe thead th {\n",
       "        text-align: right;\n",
       "    }\n",
       "</style>\n",
       "<table border=\"1\" class=\"dataframe\">\n",
       "  <thead>\n",
       "    <tr style=\"text-align: right;\">\n",
       "      <th></th>\n",
       "      <th>num_rooms</th>\n",
       "      <th>num_bathrooms</th>\n",
       "      <th>size</th>\n",
       "      <th>price</th>\n",
       "      <th>region_Al Barari</th>\n",
       "      <th>region_Al Barsha</th>\n",
       "      <th>region_Al Furjan</th>\n",
       "      <th>region_Al Jaddaf</th>\n",
       "      <th>region_Al Kifaf</th>\n",
       "      <th>region_Al Quoz</th>\n",
       "      <th>...</th>\n",
       "      <th>type_Hotel</th>\n",
       "      <th>type_Hotel Apartment</th>\n",
       "      <th>type_Labor Camp</th>\n",
       "      <th>type_Land</th>\n",
       "      <th>type_Office</th>\n",
       "      <th>type_Penthouse</th>\n",
       "      <th>type_Shop</th>\n",
       "      <th>type_Townhouse</th>\n",
       "      <th>type_Villa</th>\n",
       "      <th>type_Warehouse</th>\n",
       "    </tr>\n",
       "  </thead>\n",
       "  <tbody>\n",
       "    <tr>\n",
       "      <th>24418</th>\n",
       "      <td>1</td>\n",
       "      <td>1</td>\n",
       "      <td>69.00</td>\n",
       "      <td>770819.0</td>\n",
       "      <td>0.0</td>\n",
       "      <td>0.0</td>\n",
       "      <td>0.0</td>\n",
       "      <td>0.0</td>\n",
       "      <td>0.0</td>\n",
       "      <td>0.0</td>\n",
       "      <td>...</td>\n",
       "      <td>0.0</td>\n",
       "      <td>0.0</td>\n",
       "      <td>0.0</td>\n",
       "      <td>0.0</td>\n",
       "      <td>0.0</td>\n",
       "      <td>0.0</td>\n",
       "      <td>0.0</td>\n",
       "      <td>0.0</td>\n",
       "      <td>0.0</td>\n",
       "      <td>0.0</td>\n",
       "    </tr>\n",
       "    <tr>\n",
       "      <th>24419</th>\n",
       "      <td>1</td>\n",
       "      <td>1</td>\n",
       "      <td>127.00</td>\n",
       "      <td>1700000.0</td>\n",
       "      <td>0.0</td>\n",
       "      <td>0.0</td>\n",
       "      <td>0.0</td>\n",
       "      <td>0.0</td>\n",
       "      <td>0.0</td>\n",
       "      <td>0.0</td>\n",
       "      <td>...</td>\n",
       "      <td>0.0</td>\n",
       "      <td>0.0</td>\n",
       "      <td>0.0</td>\n",
       "      <td>0.0</td>\n",
       "      <td>0.0</td>\n",
       "      <td>0.0</td>\n",
       "      <td>0.0</td>\n",
       "      <td>0.0</td>\n",
       "      <td>0.0</td>\n",
       "      <td>0.0</td>\n",
       "    </tr>\n",
       "    <tr>\n",
       "      <th>24420</th>\n",
       "      <td>1</td>\n",
       "      <td>1</td>\n",
       "      <td>59.00</td>\n",
       "      <td>1633600.0</td>\n",
       "      <td>0.0</td>\n",
       "      <td>0.0</td>\n",
       "      <td>0.0</td>\n",
       "      <td>0.0</td>\n",
       "      <td>0.0</td>\n",
       "      <td>0.0</td>\n",
       "      <td>...</td>\n",
       "      <td>0.0</td>\n",
       "      <td>0.0</td>\n",
       "      <td>0.0</td>\n",
       "      <td>0.0</td>\n",
       "      <td>0.0</td>\n",
       "      <td>0.0</td>\n",
       "      <td>0.0</td>\n",
       "      <td>0.0</td>\n",
       "      <td>0.0</td>\n",
       "      <td>0.0</td>\n",
       "    </tr>\n",
       "    <tr>\n",
       "      <th>24421</th>\n",
       "      <td>1</td>\n",
       "      <td>1</td>\n",
       "      <td>102.00</td>\n",
       "      <td>1048150.0</td>\n",
       "      <td>0.0</td>\n",
       "      <td>0.0</td>\n",
       "      <td>0.0</td>\n",
       "      <td>0.0</td>\n",
       "      <td>0.0</td>\n",
       "      <td>0.0</td>\n",
       "      <td>...</td>\n",
       "      <td>0.0</td>\n",
       "      <td>0.0</td>\n",
       "      <td>0.0</td>\n",
       "      <td>0.0</td>\n",
       "      <td>0.0</td>\n",
       "      <td>0.0</td>\n",
       "      <td>0.0</td>\n",
       "      <td>0.0</td>\n",
       "      <td>0.0</td>\n",
       "      <td>0.0</td>\n",
       "    </tr>\n",
       "    <tr>\n",
       "      <th>24422</th>\n",
       "      <td>2</td>\n",
       "      <td>2</td>\n",
       "      <td>136.38</td>\n",
       "      <td>2100000.0</td>\n",
       "      <td>0.0</td>\n",
       "      <td>0.0</td>\n",
       "      <td>0.0</td>\n",
       "      <td>0.0</td>\n",
       "      <td>0.0</td>\n",
       "      <td>0.0</td>\n",
       "      <td>...</td>\n",
       "      <td>0.0</td>\n",
       "      <td>0.0</td>\n",
       "      <td>0.0</td>\n",
       "      <td>0.0</td>\n",
       "      <td>0.0</td>\n",
       "      <td>0.0</td>\n",
       "      <td>0.0</td>\n",
       "      <td>0.0</td>\n",
       "      <td>0.0</td>\n",
       "      <td>0.0</td>\n",
       "    </tr>\n",
       "  </tbody>\n",
       "</table>\n",
       "<p>5 rows × 125 columns</p>\n",
       "</div>"
      ],
      "text/plain": [
       "       num_rooms  num_bathrooms    size      price  region_Al Barari  \\\n",
       "24418          1              1   69.00   770819.0               0.0   \n",
       "24419          1              1  127.00  1700000.0               0.0   \n",
       "24420          1              1   59.00  1633600.0               0.0   \n",
       "24421          1              1  102.00  1048150.0               0.0   \n",
       "24422          2              2  136.38  2100000.0               0.0   \n",
       "\n",
       "       region_Al Barsha  region_Al Furjan  region_Al Jaddaf  region_Al Kifaf  \\\n",
       "24418               0.0               0.0               0.0              0.0   \n",
       "24419               0.0               0.0               0.0              0.0   \n",
       "24420               0.0               0.0               0.0              0.0   \n",
       "24421               0.0               0.0               0.0              0.0   \n",
       "24422               0.0               0.0               0.0              0.0   \n",
       "\n",
       "       region_Al Quoz  ...  type_Hotel  type_Hotel Apartment  type_Labor Camp  \\\n",
       "24418             0.0  ...         0.0                   0.0              0.0   \n",
       "24419             0.0  ...         0.0                   0.0              0.0   \n",
       "24420             0.0  ...         0.0                   0.0              0.0   \n",
       "24421             0.0  ...         0.0                   0.0              0.0   \n",
       "24422             0.0  ...         0.0                   0.0              0.0   \n",
       "\n",
       "       type_Land  type_Office  type_Penthouse  type_Shop  type_Townhouse  \\\n",
       "24418        0.0          0.0             0.0        0.0             0.0   \n",
       "24419        0.0          0.0             0.0        0.0             0.0   \n",
       "24420        0.0          0.0             0.0        0.0             0.0   \n",
       "24421        0.0          0.0             0.0        0.0             0.0   \n",
       "24422        0.0          0.0             0.0        0.0             0.0   \n",
       "\n",
       "       type_Villa  type_Warehouse  \n",
       "24418         0.0             0.0  \n",
       "24419         0.0             0.0  \n",
       "24420         0.0             0.0  \n",
       "24421         0.0             0.0  \n",
       "24422         0.0             0.0  \n",
       "\n",
       "[5 rows x 125 columns]"
      ]
     },
     "execution_count": 23,
     "metadata": {},
     "output_type": "execute_result"
    }
   ],
   "source": [
    "df3.tail()"
   ]
  },
  {
   "cell_type": "code",
   "execution_count": 24,
   "metadata": {},
   "outputs": [
    {
     "name": "stdout",
     "output_type": "stream",
     "text": [
      "<class 'pandas.core.frame.DataFrame'>\n",
      "RangeIndex: 24423 entries, 0 to 24422\n",
      "Columns: 125 entries, num_rooms to type_Warehouse\n",
      "dtypes: float64(123), int64(2)\n",
      "memory usage: 23.3 MB\n"
     ]
    }
   ],
   "source": [
    "df3.info()"
   ]
  },
  {
   "cell_type": "code",
   "execution_count": 25,
   "metadata": {},
   "outputs": [
    {
     "data": {
      "text/plain": [
       "num_rooms           0\n",
       "num_bathrooms       0\n",
       "size                0\n",
       "price               0\n",
       "region_Al Barari    0\n",
       "                   ..\n",
       "type_Penthouse      0\n",
       "type_Shop           0\n",
       "type_Townhouse      0\n",
       "type_Villa          0\n",
       "type_Warehouse      0\n",
       "Length: 125, dtype: int64"
      ]
     },
     "execution_count": 25,
     "metadata": {},
     "output_type": "execute_result"
    }
   ],
   "source": [
    "df3.isnull().sum()"
   ]
  },
  {
   "cell_type": "markdown",
   "metadata": {},
   "source": [
    "### Check for outliers"
   ]
  },
  {
   "cell_type": "markdown",
   "metadata": {},
   "source": [
    "- Plots of the features with outliers"
   ]
  },
  {
   "cell_type": "code",
   "execution_count": 26,
   "metadata": {},
   "outputs": [
    {
     "data": {
      "image/png": "[encoded data removed]",
      "text/plain": [
       "<Figure size 1000x1000 with 4 Axes>"
      ]
     },
     "metadata": {},
     "output_type": "display_data"
    }
   ],
   "source": [
    "fig, axs = plt.subplots(2, 2, figsize=(10, 10))\n",
    "\n",
    "axs[0, 0].scatter(df3['size'], df3['price'])\n",
    "axs[0, 0].set_title('Scatter plot of size vs. price')\n",
    "axs[0, 0].set_xlabel('size')\n",
    "axs[0, 0].set_ylabel('price')\n",
    "\n",
    "axs[0, 1].scatter(df3['num_rooms'], df3['price'])\n",
    "axs[0, 1].set_title('Scatter plot of num_rooms vs. price')\n",
    "axs[0, 1].set_xlabel('num_rooms')\n",
    "axs[0, 1].set_ylabel('price')\n",
    "\n",
    "axs[1, 0].scatter(df3['num_bathrooms'], df3['price'])\n",
    "axs[1, 0].set_title('Scatter plot of num_bathrooms vs. price')\n",
    "axs[1, 0].set_xlabel('num_bathrooms')\n",
    "axs[1, 0].set_ylabel('price')\n",
    "\n",
    "# Hide the last subplot\n",
    "axs[1, 1].axis('off')\n",
    "\n",
    "plt.show()"
   ]
  },
  {
   "cell_type": "markdown",
   "metadata": {},
   "source": [
    "- Remove outliers"
   ]
  },
  {
   "cell_type": "code",
   "execution_count": 27,
   "metadata": {},
   "outputs": [],
   "source": [
    "df3 = df3[df3['size'] < 500]\n",
    "df3 = df3[df3['num_rooms'] < 7]\n",
    "df3 = df3[df3['price'] < 7000000]\n",
    "df3 = df3[df3['price'] > 500000]\n",
    "df3 = df3[df3['num_bathrooms'] < 7]\n"
   ]
  },
  {
   "cell_type": "markdown",
   "metadata": {},
   "source": [
    "- Plots after removing outliers"
   ]
  },
  {
   "cell_type": "code",
   "execution_count": 28,
   "metadata": {},
   "outputs": [
    {
     "data": {
      "image/png": "[encoded data removed]",
      "text/plain": [
       "<Figure size 1000x1000 with 4 Axes>"
      ]
     },
     "metadata": {},
     "output_type": "display_data"
    }
   ],
   "source": [
    "fig, axs = plt.subplots(2, 2, figsize=(10, 10))\n",
    "\n",
    "axs[0, 0].scatter(df3['size'], df3['price'])\n",
    "axs[0, 0].set_title('Scatter plot of size vs. price')\n",
    "axs[0, 0].set_xlabel('size')\n",
    "axs[0, 0].set_ylabel('price')\n",
    "\n",
    "axs[0, 1].scatter(df3['num_rooms'], df3['price'])\n",
    "axs[0, 1].set_title('Scatter plot of num_rooms vs. price')\n",
    "axs[0, 1].set_xlabel('num_rooms')\n",
    "axs[0, 1].set_ylabel('price')\n",
    "\n",
    "axs[1, 0].scatter(df3['num_bathrooms'], df3['price'])\n",
    "axs[1, 0].set_title('Scatter plot of num_bathrooms vs. price')\n",
    "axs[1, 0].set_xlabel('num_bathrooms')\n",
    "axs[1, 0].set_ylabel('price')\n",
    "\n",
    "# Hide the last subplot\n",
    "axs[1, 1].axis('off')\n",
    "\n",
    "plt.show()"
   ]
  },
  {
   "cell_type": "markdown",
   "metadata": {},
   "source": [
    "### Create a correlation matrix"
   ]
  },
  {
   "cell_type": "code",
   "execution_count": 29,
   "metadata": {},
   "outputs": [
    {
     "data": {
      "image/png": "[encoded data removed]",
      "text/plain": [
       "<Figure size 1500x800 with 1 Axes>"
      ]
     },
     "metadata": {},
     "output_type": "display_data"
    }
   ],
   "source": [
    "# create new dataframe with selected columns\n",
    "df_selected = df3[['num_rooms', 'size', 'num_bathrooms', 'price']]\n",
    "\n",
    "# correlation matrix\n",
    "correlation = abs(df_selected.corr())\n",
    "\n",
    "# select the lower triangle of the correlation matrix and mask the upper triangle\n",
    "triangle = np.tril(correlation, k = -1)\n",
    "mask = triangle == 0\n",
    "\n",
    "# plot size\n",
    "plt.figure(figsize=(15, 8))\n",
    "\n",
    "# set white grid lines\n",
    "sns.set_style(style=\"white\")\n",
    "\n",
    "# heat map\n",
    "sns.heatmap(triangle, center=0.5, cmap=\"Blues\", annot=True, xticklabels=correlation.index, yticklabels=correlation.columns, cbar=False, linewidths=1, mask=mask)\n",
    "plt.xticks(rotation = 50)\n",
    "plt.yticks(rotation = 20)\n",
    "plt.show()"
   ]
  },
  {
   "cell_type": "code",
   "execution_count": 30,
   "metadata": {},
   "outputs": [
    {
     "name": "stdout",
     "output_type": "stream",
     "text": [
      "<class 'pandas.core.frame.DataFrame'>\n",
      "Index: 19416 entries, 0 to 24422\n",
      "Columns: 125 entries, num_rooms to type_Warehouse\n",
      "dtypes: float64(123), int64(2)\n",
      "memory usage: 18.7 MB\n"
     ]
    }
   ],
   "source": [
    "df3.info()"
   ]
  },
  {
   "cell_type": "code",
   "execution_count": 31,
   "metadata": {},
   "outputs": [
    {
     "name": "stdout",
     "output_type": "stream",
     "text": [
      "{'region_Al Barari'}\n"
     ]
    }
   ],
   "source": [
    "df4 = df3.copy(deep=True)\n",
    "\n",
    "test = pd.read_csv('X_2.csv')\n",
    "\n",
    "diff_cols = set(df4.columns) - set(test.columns)\n",
    "diff_cols.remove('region_Camelia')\n",
    "diff_cols.remove('price')\n",
    "diff_cols.remove('type_Apartment')\n",
    "\n",
    "print(diff_cols)\n",
    "\n",
    "df4.drop(diff_cols, axis=1, inplace=True)\n",
    "\n",
    "# df4.drop(['num_bathrooms'], axis=1, inplace=True)"
   ]
  },
  {
   "cell_type": "code",
   "execution_count": 32,
   "metadata": {},
   "outputs": [
    {
     "data": {
      "image/png": "[encoded data removed]",
      "text/plain": [
       "<Figure size 1500x800 with 1 Axes>"
      ]
     },
     "metadata": {},
     "output_type": "display_data"
    }
   ],
   "source": [
    "# create new dataframe with selected columns\n",
    "df_selected = df4[['num_rooms', 'size', 'price']]\n",
    "\n",
    "# correlation matrix\n",
    "correlation = abs(df_selected.corr())\n",
    "\n",
    "# select the lower triangle of the correlation matrix and mask the upper triangle\n",
    "triangle = np.tril(correlation, k = -1)\n",
    "mask = triangle == 0\n",
    "\n",
    "# plot size\n",
    "plt.figure(figsize=(15, 8))\n",
    "\n",
    "# set white grid lines\n",
    "sns.set_style(style=\"white\")\n",
    "\n",
    "# heat map\n",
    "sns.heatmap(triangle, center=0.5, cmap=\"Blues\", annot=True, xticklabels=correlation.index, yticklabels=correlation.columns, cbar=False, linewidths=1, mask=mask)\n",
    "plt.xticks(rotation = 50)\n",
    "plt.yticks(rotation = 20)\n",
    "plt.show()"
   ]
  },
  {
   "cell_type": "code",
   "execution_count": 33,
   "metadata": {},
   "outputs": [
    {
     "data": {
      "text/html": [
       "<div>\n",
       "<style scoped>\n",
       "    .dataframe tbody tr th:only-of-type {\n",
       "        vertical-align: middle;\n",
       "    }\n",
       "\n",
       "    .dataframe tbody tr th {\n",
       "        vertical-align: top;\n",
       "    }\n",
       "\n",
       "    .dataframe thead th {\n",
       "        text-align: right;\n",
       "    }\n",
       "</style>\n",
       "<table border=\"1\" class=\"dataframe\">\n",
       "  <thead>\n",
       "    <tr style=\"text-align: right;\">\n",
       "      <th></th>\n",
       "      <th>num_rooms</th>\n",
       "      <th>num_bathrooms</th>\n",
       "      <th>size</th>\n",
       "      <th>price</th>\n",
       "      <th>region_Al Barsha</th>\n",
       "      <th>region_Al Furjan</th>\n",
       "      <th>region_Al Jaddaf</th>\n",
       "      <th>region_Al Kifaf</th>\n",
       "      <th>region_Al Quoz</th>\n",
       "      <th>region_Al Safa</th>\n",
       "      <th>...</th>\n",
       "      <th>type_Hotel</th>\n",
       "      <th>type_Hotel Apartment</th>\n",
       "      <th>type_Labor Camp</th>\n",
       "      <th>type_Land</th>\n",
       "      <th>type_Office</th>\n",
       "      <th>type_Penthouse</th>\n",
       "      <th>type_Shop</th>\n",
       "      <th>type_Townhouse</th>\n",
       "      <th>type_Villa</th>\n",
       "      <th>type_Warehouse</th>\n",
       "    </tr>\n",
       "  </thead>\n",
       "  <tbody>\n",
       "    <tr>\n",
       "      <th>19411</th>\n",
       "      <td>1</td>\n",
       "      <td>1</td>\n",
       "      <td>69.00</td>\n",
       "      <td>770819.0</td>\n",
       "      <td>0.0</td>\n",
       "      <td>0.0</td>\n",
       "      <td>0.0</td>\n",
       "      <td>0.0</td>\n",
       "      <td>0.0</td>\n",
       "      <td>0.0</td>\n",
       "      <td>...</td>\n",
       "      <td>0.0</td>\n",
       "      <td>0.0</td>\n",
       "      <td>0.0</td>\n",
       "      <td>0.0</td>\n",
       "      <td>0.0</td>\n",
       "      <td>0.0</td>\n",
       "      <td>0.0</td>\n",
       "      <td>0.0</td>\n",
       "      <td>0.0</td>\n",
       "      <td>0.0</td>\n",
       "    </tr>\n",
       "    <tr>\n",
       "      <th>19412</th>\n",
       "      <td>1</td>\n",
       "      <td>1</td>\n",
       "      <td>127.00</td>\n",
       "      <td>1700000.0</td>\n",
       "      <td>0.0</td>\n",
       "      <td>0.0</td>\n",
       "      <td>0.0</td>\n",
       "      <td>0.0</td>\n",
       "      <td>0.0</td>\n",
       "      <td>0.0</td>\n",
       "      <td>...</td>\n",
       "      <td>0.0</td>\n",
       "      <td>0.0</td>\n",
       "      <td>0.0</td>\n",
       "      <td>0.0</td>\n",
       "      <td>0.0</td>\n",
       "      <td>0.0</td>\n",
       "      <td>0.0</td>\n",
       "      <td>0.0</td>\n",
       "      <td>0.0</td>\n",
       "      <td>0.0</td>\n",
       "    </tr>\n",
       "    <tr>\n",
       "      <th>19413</th>\n",
       "      <td>1</td>\n",
       "      <td>1</td>\n",
       "      <td>59.00</td>\n",
       "      <td>1633600.0</td>\n",
       "      <td>0.0</td>\n",
       "      <td>0.0</td>\n",
       "      <td>0.0</td>\n",
       "      <td>0.0</td>\n",
       "      <td>0.0</td>\n",
       "      <td>0.0</td>\n",
       "      <td>...</td>\n",
       "      <td>0.0</td>\n",
       "      <td>0.0</td>\n",
       "      <td>0.0</td>\n",
       "      <td>0.0</td>\n",
       "      <td>0.0</td>\n",
       "      <td>0.0</td>\n",
       "      <td>0.0</td>\n",
       "      <td>0.0</td>\n",
       "      <td>0.0</td>\n",
       "      <td>0.0</td>\n",
       "    </tr>\n",
       "    <tr>\n",
       "      <th>19414</th>\n",
       "      <td>1</td>\n",
       "      <td>1</td>\n",
       "      <td>102.00</td>\n",
       "      <td>1048150.0</td>\n",
       "      <td>0.0</td>\n",
       "      <td>0.0</td>\n",
       "      <td>0.0</td>\n",
       "      <td>0.0</td>\n",
       "      <td>0.0</td>\n",
       "      <td>0.0</td>\n",
       "      <td>...</td>\n",
       "      <td>0.0</td>\n",
       "      <td>0.0</td>\n",
       "      <td>0.0</td>\n",
       "      <td>0.0</td>\n",
       "      <td>0.0</td>\n",
       "      <td>0.0</td>\n",
       "      <td>0.0</td>\n",
       "      <td>0.0</td>\n",
       "      <td>0.0</td>\n",
       "      <td>0.0</td>\n",
       "    </tr>\n",
       "    <tr>\n",
       "      <th>19415</th>\n",
       "      <td>2</td>\n",
       "      <td>2</td>\n",
       "      <td>136.38</td>\n",
       "      <td>2100000.0</td>\n",
       "      <td>0.0</td>\n",
       "      <td>0.0</td>\n",
       "      <td>0.0</td>\n",
       "      <td>0.0</td>\n",
       "      <td>0.0</td>\n",
       "      <td>0.0</td>\n",
       "      <td>...</td>\n",
       "      <td>0.0</td>\n",
       "      <td>0.0</td>\n",
       "      <td>0.0</td>\n",
       "      <td>0.0</td>\n",
       "      <td>0.0</td>\n",
       "      <td>0.0</td>\n",
       "      <td>0.0</td>\n",
       "      <td>0.0</td>\n",
       "      <td>0.0</td>\n",
       "      <td>0.0</td>\n",
       "    </tr>\n",
       "  </tbody>\n",
       "</table>\n",
       "<p>5 rows × 124 columns</p>\n",
       "</div>"
      ],
      "text/plain": [
       "       num_rooms  num_bathrooms    size      price  region_Al Barsha  \\\n",
       "19411          1              1   69.00   770819.0               0.0   \n",
       "19412          1              1  127.00  1700000.0               0.0   \n",
       "19413          1              1   59.00  1633600.0               0.0   \n",
       "19414          1              1  102.00  1048150.0               0.0   \n",
       "19415          2              2  136.38  2100000.0               0.0   \n",
       "\n",
       "       region_Al Furjan  region_Al Jaddaf  region_Al Kifaf  region_Al Quoz  \\\n",
       "19411               0.0               0.0              0.0             0.0   \n",
       "19412               0.0               0.0              0.0             0.0   \n",
       "19413               0.0               0.0              0.0             0.0   \n",
       "19414               0.0               0.0              0.0             0.0   \n",
       "19415               0.0               0.0              0.0             0.0   \n",
       "\n",
       "       region_Al Safa  ...  type_Hotel  type_Hotel Apartment  type_Labor Camp  \\\n",
       "19411             0.0  ...         0.0                   0.0              0.0   \n",
       "19412             0.0  ...         0.0                   0.0              0.0   \n",
       "19413             0.0  ...         0.0                   0.0              0.0   \n",
       "19414             0.0  ...         0.0                   0.0              0.0   \n",
       "19415             0.0  ...         0.0                   0.0              0.0   \n",
       "\n",
       "       type_Land  type_Office  type_Penthouse  type_Shop  type_Townhouse  \\\n",
       "19411        0.0          0.0             0.0        0.0             0.0   \n",
       "19412        0.0          0.0             0.0        0.0             0.0   \n",
       "19413        0.0          0.0             0.0        0.0             0.0   \n",
       "19414        0.0          0.0             0.0        0.0             0.0   \n",
       "19415        0.0          0.0             0.0        0.0             0.0   \n",
       "\n",
       "       type_Villa  type_Warehouse  \n",
       "19411         0.0             0.0  \n",
       "19412         0.0             0.0  \n",
       "19413         0.0             0.0  \n",
       "19414         0.0             0.0  \n",
       "19415         0.0             0.0  \n",
       "\n",
       "[5 rows x 124 columns]"
      ]
     },
     "execution_count": 33,
     "metadata": {},
     "output_type": "execute_result"
    }
   ],
   "source": [
    "df4.reset_index(drop=True, inplace=True)\n",
    "\n",
    "df4.tail()"
   ]
  },
  {
   "cell_type": "markdown",
   "metadata": {},
   "source": [
    "## 2. Preprocessing the train dataset"
   ]
  },
  {
   "cell_type": "code",
   "execution_count": 34,
   "metadata": {},
   "outputs": [],
   "source": [
    "y = df4['price']\n",
    "X = df4.drop(['price'], axis=1)\n",
    "X.reset_index(drop=True, inplace=True)\n",
    "y.reset_index(drop=True, inplace=True)  "
   ]
  },
  {
   "cell_type": "code",
   "execution_count": 35,
   "metadata": {},
   "outputs": [
    {
     "data": {
      "text/html": [
       "<div>\n",
       "<style scoped>\n",
       "    .dataframe tbody tr th:only-of-type {\n",
       "        vertical-align: middle;\n",
       "    }\n",
       "\n",
       "    .dataframe tbody tr th {\n",
       "        vertical-align: top;\n",
       "    }\n",
       "\n",
       "    .dataframe thead th {\n",
       "        text-align: right;\n",
       "    }\n",
       "</style>\n",
       "<table border=\"1\" class=\"dataframe\">\n",
       "  <thead>\n",
       "    <tr style=\"text-align: right;\">\n",
       "      <th></th>\n",
       "      <th>num_rooms</th>\n",
       "      <th>num_bathrooms</th>\n",
       "      <th>size</th>\n",
       "      <th>region_Al Barsha</th>\n",
       "      <th>region_Al Furjan</th>\n",
       "      <th>region_Al Jaddaf</th>\n",
       "      <th>region_Al Kifaf</th>\n",
       "      <th>region_Al Quoz</th>\n",
       "      <th>region_Al Safa</th>\n",
       "      <th>region_Al Satwa</th>\n",
       "      <th>...</th>\n",
       "      <th>type_Hotel</th>\n",
       "      <th>type_Hotel Apartment</th>\n",
       "      <th>type_Labor Camp</th>\n",
       "      <th>type_Land</th>\n",
       "      <th>type_Office</th>\n",
       "      <th>type_Penthouse</th>\n",
       "      <th>type_Shop</th>\n",
       "      <th>type_Townhouse</th>\n",
       "      <th>type_Villa</th>\n",
       "      <th>type_Warehouse</th>\n",
       "    </tr>\n",
       "  </thead>\n",
       "  <tbody>\n",
       "    <tr>\n",
       "      <th>19411</th>\n",
       "      <td>1</td>\n",
       "      <td>1</td>\n",
       "      <td>69.00</td>\n",
       "      <td>0.0</td>\n",
       "      <td>0.0</td>\n",
       "      <td>0.0</td>\n",
       "      <td>0.0</td>\n",
       "      <td>0.0</td>\n",
       "      <td>0.0</td>\n",
       "      <td>0.0</td>\n",
       "      <td>...</td>\n",
       "      <td>0.0</td>\n",
       "      <td>0.0</td>\n",
       "      <td>0.0</td>\n",
       "      <td>0.0</td>\n",
       "      <td>0.0</td>\n",
       "      <td>0.0</td>\n",
       "      <td>0.0</td>\n",
       "      <td>0.0</td>\n",
       "      <td>0.0</td>\n",
       "      <td>0.0</td>\n",
       "    </tr>\n",
       "    <tr>\n",
       "      <th>19412</th>\n",
       "      <td>1</td>\n",
       "      <td>1</td>\n",
       "      <td>127.00</td>\n",
       "      <td>0.0</td>\n",
       "      <td>0.0</td>\n",
       "      <td>0.0</td>\n",
       "      <td>0.0</td>\n",
       "      <td>0.0</td>\n",
       "      <td>0.0</td>\n",
       "      <td>0.0</td>\n",
       "      <td>...</td>\n",
       "      <td>0.0</td>\n",
       "      <td>0.0</td>\n",
       "      <td>0.0</td>\n",
       "      <td>0.0</td>\n",
       "      <td>0.0</td>\n",
       "      <td>0.0</td>\n",
       "      <td>0.0</td>\n",
       "      <td>0.0</td>\n",
       "      <td>0.0</td>\n",
       "      <td>0.0</td>\n",
       "    </tr>\n",
       "    <tr>\n",
       "      <th>19413</th>\n",
       "      <td>1</td>\n",
       "      <td>1</td>\n",
       "      <td>59.00</td>\n",
       "      <td>0.0</td>\n",
       "      <td>0.0</td>\n",
       "      <td>0.0</td>\n",
       "      <td>0.0</td>\n",
       "      <td>0.0</td>\n",
       "      <td>0.0</td>\n",
       "      <td>0.0</td>\n",
       "      <td>...</td>\n",
       "      <td>0.0</td>\n",
       "      <td>0.0</td>\n",
       "      <td>0.0</td>\n",
       "      <td>0.0</td>\n",
       "      <td>0.0</td>\n",
       "      <td>0.0</td>\n",
       "      <td>0.0</td>\n",
       "      <td>0.0</td>\n",
       "      <td>0.0</td>\n",
       "      <td>0.0</td>\n",
       "    </tr>\n",
       "    <tr>\n",
       "      <th>19414</th>\n",
       "      <td>1</td>\n",
       "      <td>1</td>\n",
       "      <td>102.00</td>\n",
       "      <td>0.0</td>\n",
       "      <td>0.0</td>\n",
       "      <td>0.0</td>\n",
       "      <td>0.0</td>\n",
       "      <td>0.0</td>\n",
       "      <td>0.0</td>\n",
       "      <td>0.0</td>\n",
       "      <td>...</td>\n",
       "      <td>0.0</td>\n",
       "      <td>0.0</td>\n",
       "      <td>0.0</td>\n",
       "      <td>0.0</td>\n",
       "      <td>0.0</td>\n",
       "      <td>0.0</td>\n",
       "      <td>0.0</td>\n",
       "      <td>0.0</td>\n",
       "      <td>0.0</td>\n",
       "      <td>0.0</td>\n",
       "    </tr>\n",
       "    <tr>\n",
       "      <th>19415</th>\n",
       "      <td>2</td>\n",
       "      <td>2</td>\n",
       "      <td>136.38</td>\n",
       "      <td>0.0</td>\n",
       "      <td>0.0</td>\n",
       "      <td>0.0</td>\n",
       "      <td>0.0</td>\n",
       "      <td>0.0</td>\n",
       "      <td>0.0</td>\n",
       "      <td>0.0</td>\n",
       "      <td>...</td>\n",
       "      <td>0.0</td>\n",
       "      <td>0.0</td>\n",
       "      <td>0.0</td>\n",
       "      <td>0.0</td>\n",
       "      <td>0.0</td>\n",
       "      <td>0.0</td>\n",
       "      <td>0.0</td>\n",
       "      <td>0.0</td>\n",
       "      <td>0.0</td>\n",
       "      <td>0.0</td>\n",
       "    </tr>\n",
       "  </tbody>\n",
       "</table>\n",
       "<p>5 rows × 123 columns</p>\n",
       "</div>"
      ],
      "text/plain": [
       "       num_rooms  num_bathrooms    size  region_Al Barsha  region_Al Furjan  \\\n",
       "19411          1              1   69.00               0.0               0.0   \n",
       "19412          1              1  127.00               0.0               0.0   \n",
       "19413          1              1   59.00               0.0               0.0   \n",
       "19414          1              1  102.00               0.0               0.0   \n",
       "19415          2              2  136.38               0.0               0.0   \n",
       "\n",
       "       region_Al Jaddaf  region_Al Kifaf  region_Al Quoz  region_Al Safa  \\\n",
       "19411               0.0              0.0             0.0             0.0   \n",
       "19412               0.0              0.0             0.0             0.0   \n",
       "19413               0.0              0.0             0.0             0.0   \n",
       "19414               0.0              0.0             0.0             0.0   \n",
       "19415               0.0              0.0             0.0             0.0   \n",
       "\n",
       "       region_Al Satwa  ...  type_Hotel  type_Hotel Apartment  \\\n",
       "19411              0.0  ...         0.0                   0.0   \n",
       "19412              0.0  ...         0.0                   0.0   \n",
       "19413              0.0  ...         0.0                   0.0   \n",
       "19414              0.0  ...         0.0                   0.0   \n",
       "19415              0.0  ...         0.0                   0.0   \n",
       "\n",
       "       type_Labor Camp  type_Land  type_Office  type_Penthouse  type_Shop  \\\n",
       "19411              0.0        0.0          0.0             0.0        0.0   \n",
       "19412              0.0        0.0          0.0             0.0        0.0   \n",
       "19413              0.0        0.0          0.0             0.0        0.0   \n",
       "19414              0.0        0.0          0.0             0.0        0.0   \n",
       "19415              0.0        0.0          0.0             0.0        0.0   \n",
       "\n",
       "       type_Townhouse  type_Villa  type_Warehouse  \n",
       "19411             0.0         0.0             0.0  \n",
       "19412             0.0         0.0             0.0  \n",
       "19413             0.0         0.0             0.0  \n",
       "19414             0.0         0.0             0.0  \n",
       "19415             0.0         0.0             0.0  \n",
       "\n",
       "[5 rows x 123 columns]"
      ]
     },
     "execution_count": 35,
     "metadata": {},
     "output_type": "execute_result"
    }
   ],
   "source": [
    "X.tail()"
   ]
  },
  {
   "cell_type": "code",
   "execution_count": 36,
   "metadata": {},
   "outputs": [
    {
     "data": {
      "text/plain": [
       "19411     770819.0\n",
       "19412    1700000.0\n",
       "19413    1633600.0\n",
       "19414    1048150.0\n",
       "19415    2100000.0\n",
       "Name: price, dtype: float64"
      ]
     },
     "execution_count": 36,
     "metadata": {},
     "output_type": "execute_result"
    }
   ],
   "source": [
    "y.tail()"
   ]
  },
  {
   "cell_type": "code",
   "execution_count": 37,
   "metadata": {},
   "outputs": [
    {
     "data": {
      "text/plain": [
       "count    1.941600e+04\n",
       "mean     2.422866e+06\n",
       "std      1.470589e+06\n",
       "min      5.040000e+05\n",
       "25%      1.240670e+06\n",
       "50%      2.100000e+06\n",
       "75%      3.294168e+06\n",
       "max      6.999990e+06\n",
       "Name: price, dtype: float64"
      ]
     },
     "execution_count": 37,
     "metadata": {},
     "output_type": "execute_result"
    }
   ],
   "source": [
    "y.describe()"
   ]
  },
  {
   "cell_type": "code",
   "execution_count": 38,
   "metadata": {},
   "outputs": [
    {
     "name": "stdout",
     "output_type": "stream",
     "text": [
      "Properties with price above 7 million AED: 0\n",
      "Properties with price below 1 million AED: 3355\n",
      "Properties with price between 1 million and 5 million AED: 16061\n"
     ]
    }
   ],
   "source": [
    "count_above = (y > 7000000).sum()\n",
    "print(f\"Properties with price above 7 million AED: {count_above}\")\n",
    "\n",
    "\n",
    "count_below = (y < 1000000).sum()\n",
    "print(f\"Properties with price below 1 million AED: {count_below}\")\n",
    "\n",
    "count = y.shape[0] - (count_below + count_above)\n",
    "print(f\"Properties with price between 1 million and 5 million AED: {count}\")"
   ]
  },
  {
   "cell_type": "code",
   "execution_count": 39,
   "metadata": {},
   "outputs": [
    {
     "name": "stdout",
     "output_type": "stream",
     "text": [
      "The shape of X is: (19416, 123)\n",
      "The shape of y is: (19416,)\n"
     ]
    }
   ],
   "source": [
    "print ('The shape of X is: ' + str(X.shape))\n",
    "print ('The shape of y is: ' + str(y.shape))"
   ]
  },
  {
   "cell_type": "code",
   "execution_count": 58,
   "metadata": {},
   "outputs": [
    {
     "name": "stdout",
     "output_type": "stream",
     "text": [
      "aws.connect.psdb.cloud\n",
      "d26zyor81n564aa9blhr\n",
      "pscale_pw_z27tXrLv1QedWgQG28a71OwiDv21jTHLcxx9pHH1OIV\n",
      "techprop-ai\n"
     ]
    }
   ],
   "source": [
    "load_dotenv()\n",
    "print(os.getenv('DB_HOST2'))\n",
    "print(os.getenv('DB_USER2'))\n",
    "print(os.getenv('DB_PASSWORD2'))\n",
    "print(os.getenv('DB_NAME2'))\n"
   ]
  },
  {
   "cell_type": "code",
   "execution_count": 60,
   "metadata": {},
   "outputs": [
    {
     "name": "stdout",
     "output_type": "stream",
     "text": [
      "Connected to MySQL database\n",
      "Successfully inserted 104 rows into the user table\n",
      "MySQL connection closed\n"
     ]
    }
   ],
   "source": [
    "try:\n",
    "    connection = mysql.connector.connect(\n",
    "        host=os.getenv('DB_HOST2'),\n",
    "        user=os.getenv('DB_USER2'),\n",
    "        password=os.getenv('DB_PASSWORD2'),\n",
    "        database=os.getenv('DB_NAME2')\n",
    "    )\n",
    "\n",
    "    if connection.is_connected():\n",
    "        print('Connected to MySQL database')\n",
    "\n",
    "    # Define your SQL query to insert data\n",
    "    sql_query = \"INSERT INTO region (name) VALUES (%s)\"\n",
    "    values = []\n",
    "    for col in X.columns:\n",
    "        if 'region' in col:\n",
    "            values.append((col[len(\"region_\"):],))\n",
    "\n",
    "    # Execute the SQL query to insert data\n",
    "    cursor = connection.cursor()\n",
    "    cursor.executemany(sql_query, values)\n",
    "    connection.commit()\n",
    "    print(f\"Successfully inserted {cursor.rowcount} rows into the user table\")\n",
    "\n",
    "except Error as e:\n",
    "    print(f\"Error: {e}\")\n",
    "\n",
    "finally:\n",
    "    # Close the connection\n",
    "    if connection.is_connected():\n",
    "        connection.close()\n",
    "        print('MySQL connection closed')"
   ]
  },
  {
   "cell_type": "code",
   "execution_count": 61,
   "metadata": {},
   "outputs": [
    {
     "name": "stdout",
     "output_type": "stream",
     "text": [
      "Connected to MySQL database\n",
      "Successfully inserted 16 rows into the user table\n",
      "MySQL connection closed\n"
     ]
    }
   ],
   "source": [
    "try:\n",
    "    connection = mysql.connector.connect(\n",
    "        host=os.getenv('DB_HOST2'),\n",
    "        user=os.getenv('DB_USER2'),\n",
    "        password=os.getenv('DB_PASSWORD2'),\n",
    "        database=os.getenv('DB_NAME2')\n",
    "    )\n",
    "\n",
    "    if connection.is_connected():\n",
    "        print('Connected to MySQL database')\n",
    "\n",
    "    # Define your SQL query to insert data\n",
    "    sql_query = \"INSERT INTO type (name) VALUES (%s)\"\n",
    "    values = []\n",
    "    for col in X.columns:\n",
    "        if 'type' in col:\n",
    "            values.append((col[len(\"type_\"):],))\n",
    "\n",
    "    # Execute the SQL query to insert data\n",
    "    cursor = connection.cursor()\n",
    "    cursor.executemany(sql_query, values)\n",
    "    connection.commit()\n",
    "    print(f\"Successfully inserted {cursor.rowcount} rows into the user table\")\n",
    "\n",
    "except Error as e:\n",
    "    print(f\"Error: {e}\")\n",
    "\n",
    "finally:\n",
    "    # Close the connection\n",
    "    if connection.is_connected():\n",
    "        connection.close()\n",
    "        print('MySQL connection closed')"
   ]
  },
  {
   "cell_type": "code",
   "execution_count": 53,
   "metadata": {},
   "outputs": [
    {
     "name": "stdout",
     "output_type": "stream",
     "text": [
      "104\n"
     ]
    }
   ],
   "source": [
    "val = []\n",
    "\n",
    "for col in X.columns:\n",
    "    if 'region' in col:\n",
    "        val.append(col)\n",
    "\n",
    "print(len(val))"
   ]
  },
  {
   "cell_type": "markdown",
   "metadata": {},
   "source": [
    "```\n",
    "import joblib\n",
    "\n",
    "Load the saved model\n",
    "loaded_model = joblib.load('your_model_filename.pkl')\n",
    "model_filename = 'iris_model.pkl'\n",
    "joblib.dump(model, model_filename)\n",
    "``````"
   ]
  },
  {
   "cell_type": "code",
   "execution_count": 41,
   "metadata": {},
   "outputs": [],
   "source": [
    "# X.to_csv('X_short_4.csv', index=False)\n",
    "# y.to_csv('y_short_4.csv', index=False)"
   ]
  },
  {
   "cell_type": "code",
   "execution_count": 42,
   "metadata": {},
   "outputs": [
    {
     "data": {
      "text/plain": [
       "104"
      ]
     },
     "execution_count": 42,
     "metadata": {},
     "output_type": "execute_result"
    }
   ],
   "source": [
    "count = 0\n",
    "\n",
    "for col in X.columns:\n",
    "    if 'region' in col:\n",
    "        count += 1\n",
    "\n",
    "count"
   ]
  },
  {
   "cell_type": "code",
   "execution_count": 43,
   "metadata": {},
   "outputs": [
    {
     "data": {
      "text/plain": [
       "3"
      ]
     },
     "execution_count": 43,
     "metadata": {},
     "output_type": "execute_result"
    }
   ],
   "source": [
    "107-104"
   ]
  }
 ],
 "metadata": {
  "kernelspec": {
   "display_name": "Python 3",
   "language": "python",
   "name": "python3"
  },
  "language_info": {
   "codemirror_mode": {
    "name": "ipython",
    "version": 3
   },
   "file_extension": ".py",
   "mimetype": "text/x-python",
   "name": "python",
   "nbconvert_exporter": "python",
   "pygments_lexer": "ipython3",
   "version": "3.11.7"
  },
  "orig_nbformat": 4
 },
 "nbformat": 4,
 "nbformat_minor": 2
}
